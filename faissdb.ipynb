{
 "cells": [
  {
   "cell_type": "code",
   "execution_count": 1,
   "id": "a16eeb83-9a01-4fe4-bba3-fd1a76137782",
   "metadata": {
    "tags": []
   },
   "outputs": [],
   "source": [
    "from langchain_huggingface import HuggingFaceEmbeddings\n",
    "import faiss\n",
    "from langchain_community.docstore.in_memory import InMemoryDocstore\n",
    "from langchain_community.vectorstores import FAISS\n",
    "from langchain_core.documents import Document\n",
    "import torch\n",
    "from tqdm import tqdm\n",
    "from itertools import islice\n",
    "from uuid import uuid4\n",
    "from datasets import load_dataset\n",
    "from dotenv import dotenv_values\n",
    "from huggingface_hub import login"
   ]
  },
  {
   "cell_type": "code",
   "execution_count": 2,
   "id": "a47692f4-acc1-42b0-bc3e-1ad5755a3a0c",
   "metadata": {
    "tags": []
   },
   "outputs": [
    {
     "name": "stderr",
     "output_type": "stream",
     "text": [
      "Token has not been saved to git credential helper.\n",
      "Note: Environment variable`HF_TOKEN` is set and is the current active token independently from the token you've just configured.\n"
     ]
    },
    {
     "name": "stdout",
     "output_type": "stream",
     "text": [
      "\u001b[1m\u001b[31mCannot authenticate through git-credential as no helper is defined on your machine.\n",
      "You might have to re-authenticate when pushing to the Hugging Face Hub.\n",
      "Run the following command in your terminal in case you want to set the 'store' credential helper as default.\n",
      "\n",
      "git config --global credential.helper store\n",
      "\n",
      "Read https://git-scm.com/book/en/v2/Git-Tools-Credential-Storage for more details.\u001b[0m\n"
     ]
    }
   ],
   "source": [
    "venv = dotenv_values('.env')\n",
    "login(token=venv[\"HF_TOKEN\"], add_to_git_credential=True)\n",
    "\n",
    "# ASTRA_DB_API_ENDPOINT = venv[\"ASTRA_DB_API_ENDPOINT\"]\n",
    "# ASTRA_DB_APPLICATION_TOKEN = venv[\"ASTRA_DB_APPLICATION_TOKEN\"]\n",
    "# ASTRA_DB_NAMESPACE = venv[\"ASTRA_DB_NAMESPACE\"]\n",
    "\n",
    "MODEL_EMBED = 'sentence-transformers/paraphrase-multilingual-MiniLM-L12-v2'"
   ]
  },
  {
   "cell_type": "code",
   "execution_count": 3,
   "id": "d64a37c9-9b18-45d2-a41c-5d9173b7fde8",
   "metadata": {
    "tags": []
   },
   "outputs": [],
   "source": [
    "# corpus_file = r\"NaverLegal/corpus.csv\"\n",
    "dataset_name = \"Zappu/Legal-vn\"\n",
    "collection_name = \"AstraDB_Train_Legal_v2\""
   ]
  },
  {
   "cell_type": "code",
   "execution_count": 4,
   "id": "55a79d92",
   "metadata": {},
   "outputs": [
    {
     "name": "stderr",
     "output_type": "stream",
     "text": [
      "/anaconda/envs/rag/lib/python3.10/site-packages/huggingface_hub/file_download.py:797: FutureWarning: `resume_download` is deprecated and will be removed in version 1.0.0. Downloads always resume when possible. If you want to force a new download, use `force_download=True`.\n",
      "  warnings.warn(\n"
     ]
    }
   ],
   "source": [
    "device = 'cuda' if torch.cuda.is_available() else 'cpu'\n",
    "model_kwargs = {'device': device}\n",
    "cache_dir = r\"../.cache\"\n",
    "\n",
    "embeddings = HuggingFaceEmbeddings(\n",
    "    model_name=MODEL_EMBED,\n",
    "    cache_folder=cache_dir,\n",
    "    model_kwargs=model_kwargs,\n",
    "    show_progress=True,\n",
    ")"
   ]
  },
  {
   "cell_type": "code",
   "execution_count": 5,
   "id": "88650c53",
   "metadata": {},
   "outputs": [
    {
     "data": {
      "application/vnd.jupyter.widget-view+json": {
       "model_id": "e2cafcedabef4744b533e67bd209f6ac",
       "version_major": 2,
       "version_minor": 0
      },
      "text/plain": [
       "Batches:   0%|          | 0/1 [00:00<?, ?it/s]"
      ]
     },
     "metadata": {},
     "output_type": "display_data"
    }
   ],
   "source": [
    "index = faiss.IndexFlatL2(len(embeddings.embed_query(\"hello world\")))"
   ]
  },
  {
   "cell_type": "code",
   "execution_count": 6,
   "id": "29a2fc5c",
   "metadata": {},
   "outputs": [],
   "source": [
    "vector_store = FAISS(\n",
    "    embedding_function=embeddings,\n",
    "    index=index,\n",
    "    docstore=InMemoryDocstore(),\n",
    "    index_to_docstore_id={},\n",
    ")"
   ]
  },
  {
   "cell_type": "code",
   "execution_count": 7,
   "id": "b7a6149f",
   "metadata": {},
   "outputs": [
    {
     "data": {
      "text/plain": [
       "Dataset({\n",
       "    features: ['question', 'context', 'cid', 'qid'],\n",
       "    num_rows: 79456\n",
       "})"
      ]
     },
     "execution_count": 7,
     "metadata": {},
     "output_type": "execute_result"
    }
   ],
   "source": [
    "dataset = load_dataset(dataset_name, \"default\", split=\"train\")\n",
    "dataset"
   ]
  },
  {
   "cell_type": "code",
   "execution_count": 8,
   "id": "d79bb435",
   "metadata": {},
   "outputs": [],
   "source": [
    "# def create_vector_store_from_dataset(dataset, collection_name, vector_store, chunk_size):\n",
    "#     \"\"\"\n",
    "#     Create vectorstore from Huggingface Dataset\n",
    "\n",
    "#     Args:\n",
    "#         dataset_name: dataset from Hugging Face\n",
    "#         collection_name: name of collection\n",
    "#         vector_store: AstraDBVectorStore\n",
    "#         chunk_size: size of chunk\n",
    "#     \"\"\"\n",
    "    \n",
    "#     for i in range(0, len(dataset), chunk_size):\n",
    "#         # Lặp qua tất cả các split (train, test, validation)\n",
    "#         documents = []\n",
    "#         chunk = islice(dataset, i, i + chunk_size)\n",
    "#         for row in tqdm(chunk, desc=f\"Processing split {chunk}\"):\n",
    "#             text = row['context']\n",
    "#             if isinstance(text, list):\n",
    "#                  text = \" \".join(text)  # Nối list thành string nếu cần\n",
    "#             # Tiền xử lý text nếu cần\n",
    "#             if '\"' in text:\n",
    "#                 text = text.replace('\"', '')\n",
    "#             if r'\\n' in text:\n",
    "#                 text = text.replace(r'\\n', '')\n",
    "#             if r'/' in text:\n",
    "#                 text = text.replace(r'/', '')\n",
    "\n",
    "#             doc = Document(\n",
    "#                 page_content=text,\n",
    "#                 metadata={\"cid\": row['cid']},\n",
    "#             )\n",
    "#             documents.append(doc)\n",
    "#         uuids = [str(uuid4()) for _ in range(len(documents))]\n",
    "#         print(f\"Chunk: {i // chunk_size}/{len(dataset) // chunk_size + 1}\")\n",
    "#         vector_store.add_documents(documents=documents, ids=uuids)\n",
    "\n",
    "#     print(f\"Collection {collection_name} created successfully\")"
   ]
  },
  {
   "cell_type": "code",
   "execution_count": 9,
   "id": "fc195d0c-8d1a-4d8e-aeab-19f7e464165a",
   "metadata": {
    "tags": []
   },
   "outputs": [
    {
     "name": "stderr",
     "output_type": "stream",
     "text": [
      "Processing split <itertools.islice object at 0x7fab705131a0>: 1000it [00:00, 20991.04it/s]"
     ]
    },
    {
     "name": "stdout",
     "output_type": "stream",
     "text": [
      "Chunk: 0/80\n"
     ]
    },
    {
     "name": "stderr",
     "output_type": "stream",
     "text": [
      "\n"
     ]
    },
    {
     "data": {
      "application/vnd.jupyter.widget-view+json": {
       "model_id": "40468b4026364b9fa1c3bb3ccbb37596",
       "version_major": 2,
       "version_minor": 0
      },
      "text/plain": [
       "Batches:   0%|          | 0/32 [00:00<?, ?it/s]"
      ]
     },
     "metadata": {},
     "output_type": "display_data"
    },
    {
     "name": "stderr",
     "output_type": "stream",
     "text": [
      "Processing split <itertools.islice object at 0x7fab2e6cfa60>: 1000it [00:00, 12259.32it/s]"
     ]
    },
    {
     "name": "stdout",
     "output_type": "stream",
     "text": [
      "Chunk: 1/80\n"
     ]
    },
    {
     "name": "stderr",
     "output_type": "stream",
     "text": [
      "\n"
     ]
    },
    {
     "data": {
      "application/vnd.jupyter.widget-view+json": {
       "model_id": "33b57d977a4f4b9b84bf6131da25917d",
       "version_major": 2,
       "version_minor": 0
      },
      "text/plain": [
       "Batches:   0%|          | 0/32 [00:00<?, ?it/s]"
      ]
     },
     "metadata": {},
     "output_type": "display_data"
    },
    {
     "name": "stderr",
     "output_type": "stream",
     "text": [
      "Processing split <itertools.islice object at 0x7fab70450810>: 1000it [00:00, 8361.87it/s]"
     ]
    },
    {
     "name": "stdout",
     "output_type": "stream",
     "text": [
      "Chunk: 2/80\n"
     ]
    },
    {
     "name": "stderr",
     "output_type": "stream",
     "text": [
      "\n"
     ]
    },
    {
     "data": {
      "application/vnd.jupyter.widget-view+json": {
       "model_id": "ec8d42e3a7014063b1bef2d86060559d",
       "version_major": 2,
       "version_minor": 0
      },
      "text/plain": [
       "Batches:   0%|          | 0/32 [00:00<?, ?it/s]"
      ]
     },
     "metadata": {},
     "output_type": "display_data"
    },
    {
     "name": "stderr",
     "output_type": "stream",
     "text": [
      "Processing split <itertools.islice object at 0x7fab2e7e7600>: 1000it [00:00, 6456.73it/s]\n"
     ]
    },
    {
     "name": "stdout",
     "output_type": "stream",
     "text": [
      "Chunk: 3/80\n"
     ]
    },
    {
     "data": {
      "application/vnd.jupyter.widget-view+json": {
       "model_id": "88a8d43519f74d69bfaf7e7c4002e935",
       "version_major": 2,
       "version_minor": 0
      },
      "text/plain": [
       "Batches:   0%|          | 0/32 [00:00<?, ?it/s]"
      ]
     },
     "metadata": {},
     "output_type": "display_data"
    },
    {
     "name": "stderr",
     "output_type": "stream",
     "text": [
      "Processing split <itertools.islice object at 0x7fab2cea7650>: 1000it [00:00, 5195.14it/s]\n"
     ]
    },
    {
     "name": "stdout",
     "output_type": "stream",
     "text": [
      "Chunk: 4/80\n"
     ]
    },
    {
     "data": {
      "application/vnd.jupyter.widget-view+json": {
       "model_id": "9cc5c7616539450d80800fcc56ffc9b8",
       "version_major": 2,
       "version_minor": 0
      },
      "text/plain": [
       "Batches:   0%|          | 0/32 [00:00<?, ?it/s]"
      ]
     },
     "metadata": {},
     "output_type": "display_data"
    },
    {
     "name": "stderr",
     "output_type": "stream",
     "text": [
      "Processing split <itertools.islice object at 0x7fab2e7e7600>: 1000it [00:00, 4339.38it/s]"
     ]
    },
    {
     "name": "stdout",
     "output_type": "stream",
     "text": [
      "Chunk: 5/80\n"
     ]
    },
    {
     "name": "stderr",
     "output_type": "stream",
     "text": [
      "\n"
     ]
    },
    {
     "data": {
      "application/vnd.jupyter.widget-view+json": {
       "model_id": "8fa54c7856c04981b6a7b6cc8d3f526d",
       "version_major": 2,
       "version_minor": 0
      },
      "text/plain": [
       "Batches:   0%|          | 0/32 [00:00<?, ?it/s]"
      ]
     },
     "metadata": {},
     "output_type": "display_data"
    },
    {
     "name": "stderr",
     "output_type": "stream",
     "text": [
      "Processing split <itertools.islice object at 0x7fab2ce84540>: 1000it [00:00, 3719.67it/s]"
     ]
    },
    {
     "name": "stdout",
     "output_type": "stream",
     "text": [
      "Chunk: 6/80\n"
     ]
    },
    {
     "name": "stderr",
     "output_type": "stream",
     "text": [
      "\n"
     ]
    },
    {
     "data": {
      "application/vnd.jupyter.widget-view+json": {
       "model_id": "3e9f87aa46c34845aed7c3557d400a9f",
       "version_major": 2,
       "version_minor": 0
      },
      "text/plain": [
       "Batches:   0%|          | 0/32 [00:00<?, ?it/s]"
      ]
     },
     "metadata": {},
     "output_type": "display_data"
    },
    {
     "name": "stderr",
     "output_type": "stream",
     "text": [
      "Processing split <itertools.islice object at 0x7fab2c917650>: 1000it [00:00, 3309.30it/s]"
     ]
    },
    {
     "name": "stdout",
     "output_type": "stream",
     "text": [
      "Chunk: 7/80\n"
     ]
    },
    {
     "name": "stderr",
     "output_type": "stream",
     "text": [
      "\n"
     ]
    },
    {
     "data": {
      "application/vnd.jupyter.widget-view+json": {
       "model_id": "8757ed8d3cd642cfa8d9a7c534e98319",
       "version_major": 2,
       "version_minor": 0
      },
      "text/plain": [
       "Batches:   0%|          | 0/32 [00:00<?, ?it/s]"
      ]
     },
     "metadata": {},
     "output_type": "display_data"
    },
    {
     "name": "stderr",
     "output_type": "stream",
     "text": [
      "Processing split <itertools.islice object at 0x7fab2c6f8040>: 1000it [00:00, 2942.40it/s]"
     ]
    },
    {
     "name": "stdout",
     "output_type": "stream",
     "text": [
      "Chunk: 8/80\n"
     ]
    },
    {
     "name": "stderr",
     "output_type": "stream",
     "text": [
      "\n"
     ]
    },
    {
     "data": {
      "application/vnd.jupyter.widget-view+json": {
       "model_id": "504391ba066b4d6bb53d22a6df3f5493",
       "version_major": 2,
       "version_minor": 0
      },
      "text/plain": [
       "Batches:   0%|          | 0/32 [00:00<?, ?it/s]"
      ]
     },
     "metadata": {},
     "output_type": "display_data"
    },
    {
     "name": "stderr",
     "output_type": "stream",
     "text": [
      "Processing split <itertools.islice object at 0x7fab2c6f2160>: 1000it [00:00, 2663.92it/s]"
     ]
    },
    {
     "name": "stdout",
     "output_type": "stream",
     "text": [
      "Chunk: 9/80\n"
     ]
    },
    {
     "name": "stderr",
     "output_type": "stream",
     "text": [
      "\n"
     ]
    },
    {
     "data": {
      "application/vnd.jupyter.widget-view+json": {
       "model_id": "ba4394a73cd54810bd145c778b7f72bb",
       "version_major": 2,
       "version_minor": 0
      },
      "text/plain": [
       "Batches:   0%|          | 0/32 [00:00<?, ?it/s]"
      ]
     },
     "metadata": {},
     "output_type": "display_data"
    },
    {
     "name": "stderr",
     "output_type": "stream",
     "text": [
      "Processing split <itertools.islice object at 0x7fab2c31e700>: 1000it [00:00, 2386.61it/s]"
     ]
    },
    {
     "name": "stdout",
     "output_type": "stream",
     "text": [
      "Chunk: 10/80\n"
     ]
    },
    {
     "name": "stderr",
     "output_type": "stream",
     "text": [
      "\n"
     ]
    },
    {
     "data": {
      "application/vnd.jupyter.widget-view+json": {
       "model_id": "c8a8a8fdaf0048419cfd111d79b538d4",
       "version_major": 2,
       "version_minor": 0
      },
      "text/plain": [
       "Batches:   0%|          | 0/32 [00:00<?, ?it/s]"
      ]
     },
     "metadata": {},
     "output_type": "display_data"
    },
    {
     "name": "stderr",
     "output_type": "stream",
     "text": [
      "Processing split <itertools.islice object at 0x7fab2c31cb80>: 1000it [00:00, 2191.63it/s]"
     ]
    },
    {
     "name": "stdout",
     "output_type": "stream",
     "text": [
      "Chunk: 11/80\n"
     ]
    },
    {
     "name": "stderr",
     "output_type": "stream",
     "text": [
      "\n"
     ]
    },
    {
     "data": {
      "application/vnd.jupyter.widget-view+json": {
       "model_id": "875493a24b004d8aaf2a4914c3bf78e8",
       "version_major": 2,
       "version_minor": 0
      },
      "text/plain": [
       "Batches:   0%|          | 0/32 [00:00<?, ?it/s]"
      ]
     },
     "metadata": {},
     "output_type": "display_data"
    },
    {
     "name": "stderr",
     "output_type": "stream",
     "text": [
      "Processing split <itertools.islice object at 0x7fab0beb4450>: 1000it [00:00, 2061.16it/s]"
     ]
    },
    {
     "name": "stdout",
     "output_type": "stream",
     "text": [
      "Chunk: 12/80\n"
     ]
    },
    {
     "name": "stderr",
     "output_type": "stream",
     "text": [
      "\n"
     ]
    },
    {
     "data": {
      "application/vnd.jupyter.widget-view+json": {
       "model_id": "ea70216ef57d4c2ea11eccaad9a8ef16",
       "version_major": 2,
       "version_minor": 0
      },
      "text/plain": [
       "Batches:   0%|          | 0/32 [00:00<?, ?it/s]"
      ]
     },
     "metadata": {},
     "output_type": "display_data"
    },
    {
     "name": "stderr",
     "output_type": "stream",
     "text": [
      "Processing split <itertools.islice object at 0x7fab0bebe430>: 1000it [00:00, 1935.16it/s]"
     ]
    },
    {
     "name": "stdout",
     "output_type": "stream",
     "text": [
      "Chunk: 13/80\n"
     ]
    },
    {
     "name": "stderr",
     "output_type": "stream",
     "text": [
      "\n"
     ]
    },
    {
     "data": {
      "application/vnd.jupyter.widget-view+json": {
       "model_id": "5be0b403ef5748ba9a6a3fb60b88e455",
       "version_major": 2,
       "version_minor": 0
      },
      "text/plain": [
       "Batches:   0%|          | 0/32 [00:00<?, ?it/s]"
      ]
     },
     "metadata": {},
     "output_type": "display_data"
    },
    {
     "name": "stderr",
     "output_type": "stream",
     "text": [
      "Processing split <itertools.islice object at 0x7fab0bbd0b80>: 1000it [00:00, 1785.70it/s]"
     ]
    },
    {
     "name": "stdout",
     "output_type": "stream",
     "text": [
      "Chunk: 14/80\n"
     ]
    },
    {
     "name": "stderr",
     "output_type": "stream",
     "text": [
      "\n"
     ]
    },
    {
     "data": {
      "application/vnd.jupyter.widget-view+json": {
       "model_id": "5bdf776d28db404faa42d86c46f92d86",
       "version_major": 2,
       "version_minor": 0
      },
      "text/plain": [
       "Batches:   0%|          | 0/32 [00:00<?, ?it/s]"
      ]
     },
     "metadata": {},
     "output_type": "display_data"
    },
    {
     "name": "stderr",
     "output_type": "stream",
     "text": [
      "Processing split <itertools.islice object at 0x7fab2c750310>: 1000it [00:00, 1671.74it/s]"
     ]
    },
    {
     "name": "stdout",
     "output_type": "stream",
     "text": [
      "Chunk: 15/80\n"
     ]
    },
    {
     "name": "stderr",
     "output_type": "stream",
     "text": [
      "\n"
     ]
    },
    {
     "data": {
      "application/vnd.jupyter.widget-view+json": {
       "model_id": "4fbece21bae64031af34dab37a9cb5d6",
       "version_major": 2,
       "version_minor": 0
      },
      "text/plain": [
       "Batches:   0%|          | 0/32 [00:00<?, ?it/s]"
      ]
     },
     "metadata": {},
     "output_type": "display_data"
    },
    {
     "name": "stderr",
     "output_type": "stream",
     "text": [
      "Processing split <itertools.islice object at 0x7fab0bd7f790>: 1000it [00:00, 1601.94it/s]"
     ]
    },
    {
     "name": "stdout",
     "output_type": "stream",
     "text": [
      "Chunk: 16/80\n"
     ]
    },
    {
     "name": "stderr",
     "output_type": "stream",
     "text": [
      "\n"
     ]
    },
    {
     "data": {
      "application/vnd.jupyter.widget-view+json": {
       "model_id": "b73fcb2bab344317af418c7a712e7dfe",
       "version_major": 2,
       "version_minor": 0
      },
      "text/plain": [
       "Batches:   0%|          | 0/32 [00:00<?, ?it/s]"
      ]
     },
     "metadata": {},
     "output_type": "display_data"
    },
    {
     "name": "stderr",
     "output_type": "stream",
     "text": [
      "Processing split <itertools.islice object at 0x7fab0baa9d50>: 1000it [00:00, 1493.02it/s]"
     ]
    },
    {
     "name": "stdout",
     "output_type": "stream",
     "text": [
      "Chunk: 17/80\n"
     ]
    },
    {
     "name": "stderr",
     "output_type": "stream",
     "text": [
      "\n"
     ]
    },
    {
     "data": {
      "application/vnd.jupyter.widget-view+json": {
       "model_id": "bf1f19affa5d4425adbbca781c64096c",
       "version_major": 2,
       "version_minor": 0
      },
      "text/plain": [
       "Batches:   0%|          | 0/32 [00:00<?, ?it/s]"
      ]
     },
     "metadata": {},
     "output_type": "display_data"
    },
    {
     "name": "stderr",
     "output_type": "stream",
     "text": [
      "Processing split <itertools.islice object at 0x7fab2c212750>: 1000it [00:00, 1431.28it/s]"
     ]
    },
    {
     "name": "stdout",
     "output_type": "stream",
     "text": [
      "Chunk: 18/80\n"
     ]
    },
    {
     "name": "stderr",
     "output_type": "stream",
     "text": [
      "\n"
     ]
    },
    {
     "data": {
      "application/vnd.jupyter.widget-view+json": {
       "model_id": "a839ae355c6c4bb1958ac31e867ac70f",
       "version_major": 2,
       "version_minor": 0
      },
      "text/plain": [
       "Batches:   0%|          | 0/32 [00:00<?, ?it/s]"
      ]
     },
     "metadata": {},
     "output_type": "display_data"
    },
    {
     "name": "stderr",
     "output_type": "stream",
     "text": [
      "Processing split <itertools.islice object at 0x7fab0b670310>: 1000it [00:00, 1355.11it/s]"
     ]
    },
    {
     "name": "stdout",
     "output_type": "stream",
     "text": [
      "Chunk: 19/80\n"
     ]
    },
    {
     "name": "stderr",
     "output_type": "stream",
     "text": [
      "\n"
     ]
    },
    {
     "data": {
      "application/vnd.jupyter.widget-view+json": {
       "model_id": "ae9718b4e249415ca73552557216dfbb",
       "version_major": 2,
       "version_minor": 0
      },
      "text/plain": [
       "Batches:   0%|          | 0/32 [00:00<?, ?it/s]"
      ]
     },
     "metadata": {},
     "output_type": "display_data"
    },
    {
     "name": "stderr",
     "output_type": "stream",
     "text": [
      "Processing split <itertools.islice object at 0x7fab0bd7f790>: 1000it [00:00, 1310.41it/s]"
     ]
    },
    {
     "name": "stdout",
     "output_type": "stream",
     "text": [
      "Chunk: 20/80\n"
     ]
    },
    {
     "name": "stderr",
     "output_type": "stream",
     "text": [
      "\n"
     ]
    },
    {
     "data": {
      "application/vnd.jupyter.widget-view+json": {
       "model_id": "d5b26bcc287645959db56698c5f6fe57",
       "version_major": 2,
       "version_minor": 0
      },
      "text/plain": [
       "Batches:   0%|          | 0/32 [00:00<?, ?it/s]"
      ]
     },
     "metadata": {},
     "output_type": "display_data"
    },
    {
     "name": "stderr",
     "output_type": "stream",
     "text": [
      "Processing split <itertools.islice object at 0x7fab2d5673d0>: 1000it [00:00, 1220.22it/s]"
     ]
    },
    {
     "name": "stdout",
     "output_type": "stream",
     "text": [
      "Chunk: 21/80\n"
     ]
    },
    {
     "name": "stderr",
     "output_type": "stream",
     "text": [
      "\n"
     ]
    },
    {
     "data": {
      "application/vnd.jupyter.widget-view+json": {
       "model_id": "c9122609e21b451ab5af9a6382f583f9",
       "version_major": 2,
       "version_minor": 0
      },
      "text/plain": [
       "Batches:   0%|          | 0/32 [00:00<?, ?it/s]"
      ]
     },
     "metadata": {},
     "output_type": "display_data"
    },
    {
     "name": "stderr",
     "output_type": "stream",
     "text": [
      "Processing split <itertools.islice object at 0x7fab2d36b1a0>: 1000it [00:00, 1157.55it/s]"
     ]
    },
    {
     "name": "stdout",
     "output_type": "stream",
     "text": [
      "Chunk: 22/80\n"
     ]
    },
    {
     "name": "stderr",
     "output_type": "stream",
     "text": [
      "\n"
     ]
    },
    {
     "data": {
      "application/vnd.jupyter.widget-view+json": {
       "model_id": "4463f2eea00040e1b1f8420bf4ed0058",
       "version_major": 2,
       "version_minor": 0
      },
      "text/plain": [
       "Batches:   0%|          | 0/32 [00:00<?, ?it/s]"
      ]
     },
     "metadata": {},
     "output_type": "display_data"
    },
    {
     "name": "stderr",
     "output_type": "stream",
     "text": [
      "Processing split <itertools.islice object at 0x7fab2d3d1030>: 1000it [00:00, 1132.78it/s]"
     ]
    },
    {
     "name": "stdout",
     "output_type": "stream",
     "text": [
      "Chunk: 23/80\n"
     ]
    },
    {
     "name": "stderr",
     "output_type": "stream",
     "text": [
      "\n"
     ]
    },
    {
     "data": {
      "application/vnd.jupyter.widget-view+json": {
       "model_id": "370306d4a9634671ab430713f1eb4aaa",
       "version_major": 2,
       "version_minor": 0
      },
      "text/plain": [
       "Batches:   0%|          | 0/32 [00:00<?, ?it/s]"
      ]
     },
     "metadata": {},
     "output_type": "display_data"
    },
    {
     "name": "stderr",
     "output_type": "stream",
     "text": [
      "Processing split <itertools.islice object at 0x7fab2d36fbf0>: 1000it [00:00, 1095.10it/s]"
     ]
    },
    {
     "name": "stdout",
     "output_type": "stream",
     "text": [
      "Chunk: 24/80\n"
     ]
    },
    {
     "name": "stderr",
     "output_type": "stream",
     "text": [
      "\n"
     ]
    },
    {
     "data": {
      "application/vnd.jupyter.widget-view+json": {
       "model_id": "ee49912cf72540af9f28102c80f1250b",
       "version_major": 2,
       "version_minor": 0
      },
      "text/plain": [
       "Batches:   0%|          | 0/32 [00:00<?, ?it/s]"
      ]
     },
     "metadata": {},
     "output_type": "display_data"
    },
    {
     "name": "stderr",
     "output_type": "stream",
     "text": [
      "Processing split <itertools.islice object at 0x7fab08330b80>: 1000it [00:00, 1052.78it/s]"
     ]
    },
    {
     "name": "stdout",
     "output_type": "stream",
     "text": [
      "Chunk: 25/80\n"
     ]
    },
    {
     "name": "stderr",
     "output_type": "stream",
     "text": [
      "\n"
     ]
    },
    {
     "data": {
      "application/vnd.jupyter.widget-view+json": {
       "model_id": "f8bb0f85364d49a88675a4cbb5f549ce",
       "version_major": 2,
       "version_minor": 0
      },
      "text/plain": [
       "Batches:   0%|          | 0/32 [00:00<?, ?it/s]"
      ]
     },
     "metadata": {},
     "output_type": "display_data"
    },
    {
     "name": "stderr",
     "output_type": "stream",
     "text": [
      "Processing split <itertools.islice object at 0x7fab2cf8c6d0>: 1000it [00:01, 996.87it/s]\n"
     ]
    },
    {
     "name": "stdout",
     "output_type": "stream",
     "text": [
      "Chunk: 26/80\n"
     ]
    },
    {
     "data": {
      "application/vnd.jupyter.widget-view+json": {
       "model_id": "8c51dc20e10348af9915119d7e51b2d2",
       "version_major": 2,
       "version_minor": 0
      },
      "text/plain": [
       "Batches:   0%|          | 0/32 [00:00<?, ?it/s]"
      ]
     },
     "metadata": {},
     "output_type": "display_data"
    },
    {
     "name": "stderr",
     "output_type": "stream",
     "text": [
      "Processing split <itertools.islice object at 0x7fab0b44a3e0>: 1000it [00:01, 985.85it/s]"
     ]
    },
    {
     "name": "stdout",
     "output_type": "stream",
     "text": [
      "Chunk: 27/80\n"
     ]
    },
    {
     "name": "stderr",
     "output_type": "stream",
     "text": [
      "\n"
     ]
    },
    {
     "data": {
      "application/vnd.jupyter.widget-view+json": {
       "model_id": "2e941bf102274d3baa40a1ef52831e33",
       "version_major": 2,
       "version_minor": 0
      },
      "text/plain": [
       "Batches:   0%|          | 0/32 [00:00<?, ?it/s]"
      ]
     },
     "metadata": {},
     "output_type": "display_data"
    },
    {
     "name": "stderr",
     "output_type": "stream",
     "text": [
      "Processing split <itertools.islice object at 0x7fab706a65c0>: 1000it [00:01, 933.85it/s]"
     ]
    },
    {
     "name": "stdout",
     "output_type": "stream",
     "text": [
      "Chunk: 28/80\n"
     ]
    },
    {
     "name": "stderr",
     "output_type": "stream",
     "text": [
      "\n"
     ]
    },
    {
     "data": {
      "application/vnd.jupyter.widget-view+json": {
       "model_id": "edc7a4de7acf4902b1c4f2757c2f9e44",
       "version_major": 2,
       "version_minor": 0
      },
      "text/plain": [
       "Batches:   0%|          | 0/32 [00:00<?, ?it/s]"
      ]
     },
     "metadata": {},
     "output_type": "display_data"
    },
    {
     "name": "stderr",
     "output_type": "stream",
     "text": [
      "Processing split <itertools.islice object at 0x7fab03f5fbf0>: 1000it [00:01, 907.52it/s]"
     ]
    },
    {
     "name": "stdout",
     "output_type": "stream",
     "text": [
      "Chunk: 29/80\n"
     ]
    },
    {
     "name": "stderr",
     "output_type": "stream",
     "text": [
      "\n"
     ]
    },
    {
     "data": {
      "application/vnd.jupyter.widget-view+json": {
       "model_id": "dcc464df2eb740d4b9e3aa26002c9465",
       "version_major": 2,
       "version_minor": 0
      },
      "text/plain": [
       "Batches:   0%|          | 0/32 [00:00<?, ?it/s]"
      ]
     },
     "metadata": {},
     "output_type": "display_data"
    },
    {
     "name": "stderr",
     "output_type": "stream",
     "text": [
      "Processing split <itertools.islice object at 0x7fab706a65c0>: 1000it [00:01, 873.12it/s]"
     ]
    },
    {
     "name": "stdout",
     "output_type": "stream",
     "text": [
      "Chunk: 30/80\n"
     ]
    },
    {
     "name": "stderr",
     "output_type": "stream",
     "text": [
      "\n"
     ]
    },
    {
     "data": {
      "application/vnd.jupyter.widget-view+json": {
       "model_id": "a7b63b2bfa934cc89a2177b3f57390d6",
       "version_major": 2,
       "version_minor": 0
      },
      "text/plain": [
       "Batches:   0%|          | 0/32 [00:00<?, ?it/s]"
      ]
     },
     "metadata": {},
     "output_type": "display_data"
    },
    {
     "name": "stderr",
     "output_type": "stream",
     "text": [
      "Processing split <itertools.islice object at 0x7fab0349a750>: 1000it [00:01, 844.37it/s]"
     ]
    },
    {
     "name": "stdout",
     "output_type": "stream",
     "text": [
      "Chunk: 31/80\n"
     ]
    },
    {
     "name": "stderr",
     "output_type": "stream",
     "text": [
      "\n"
     ]
    },
    {
     "data": {
      "application/vnd.jupyter.widget-view+json": {
       "model_id": "c03bf98a99934a79b99f6fa92a147b01",
       "version_major": 2,
       "version_minor": 0
      },
      "text/plain": [
       "Batches:   0%|          | 0/32 [00:00<?, ?it/s]"
      ]
     },
     "metadata": {},
     "output_type": "display_data"
    },
    {
     "name": "stderr",
     "output_type": "stream",
     "text": [
      "Processing split <itertools.islice object at 0x7fab706a65c0>: 1000it [00:01, 816.27it/s]"
     ]
    },
    {
     "name": "stdout",
     "output_type": "stream",
     "text": [
      "Chunk: 32/80\n"
     ]
    },
    {
     "name": "stderr",
     "output_type": "stream",
     "text": [
      "\n"
     ]
    },
    {
     "data": {
      "application/vnd.jupyter.widget-view+json": {
       "model_id": "52882e792ef84080b240204f567c0ead",
       "version_major": 2,
       "version_minor": 0
      },
      "text/plain": [
       "Batches:   0%|          | 0/32 [00:00<?, ?it/s]"
      ]
     },
     "metadata": {},
     "output_type": "display_data"
    },
    {
     "name": "stderr",
     "output_type": "stream",
     "text": [
      "Processing split <itertools.islice object at 0x7fab03f71c60>: 1000it [00:01, 789.15it/s]"
     ]
    },
    {
     "name": "stdout",
     "output_type": "stream",
     "text": [
      "Chunk: 33/80\n"
     ]
    },
    {
     "name": "stderr",
     "output_type": "stream",
     "text": [
      "\n"
     ]
    },
    {
     "data": {
      "application/vnd.jupyter.widget-view+json": {
       "model_id": "01b2cdacf74b4b86ad706f79b597ec23",
       "version_major": 2,
       "version_minor": 0
      },
      "text/plain": [
       "Batches:   0%|          | 0/32 [00:00<?, ?it/s]"
      ]
     },
     "metadata": {},
     "output_type": "display_data"
    },
    {
     "name": "stderr",
     "output_type": "stream",
     "text": [
      "Processing split <itertools.islice object at 0x7fab03f70090>: 1000it [00:01, 785.76it/s]"
     ]
    },
    {
     "name": "stdout",
     "output_type": "stream",
     "text": [
      "Chunk: 34/80\n"
     ]
    },
    {
     "name": "stderr",
     "output_type": "stream",
     "text": [
      "\n"
     ]
    },
    {
     "data": {
      "application/vnd.jupyter.widget-view+json": {
       "model_id": "4cccadd5b400481885d1c63253dabb9d",
       "version_major": 2,
       "version_minor": 0
      },
      "text/plain": [
       "Batches:   0%|          | 0/32 [00:00<?, ?it/s]"
      ]
     },
     "metadata": {},
     "output_type": "display_data"
    },
    {
     "name": "stderr",
     "output_type": "stream",
     "text": [
      "Processing split <itertools.islice object at 0x7fab02f69b70>: 1000it [00:01, 763.55it/s]"
     ]
    },
    {
     "name": "stdout",
     "output_type": "stream",
     "text": [
      "Chunk: 35/80\n"
     ]
    },
    {
     "name": "stderr",
     "output_type": "stream",
     "text": [
      "\n"
     ]
    },
    {
     "data": {
      "application/vnd.jupyter.widget-view+json": {
       "model_id": "d3b2296bdc42466f821b9ae57d01be8e",
       "version_major": 2,
       "version_minor": 0
      },
      "text/plain": [
       "Batches:   0%|          | 0/32 [00:00<?, ?it/s]"
      ]
     },
     "metadata": {},
     "output_type": "display_data"
    },
    {
     "name": "stderr",
     "output_type": "stream",
     "text": [
      "Processing split <itertools.islice object at 0x7fab034e7920>: 1000it [00:01, 745.39it/s]"
     ]
    },
    {
     "name": "stdout",
     "output_type": "stream",
     "text": [
      "Chunk: 36/80\n"
     ]
    },
    {
     "name": "stderr",
     "output_type": "stream",
     "text": [
      "\n"
     ]
    },
    {
     "data": {
      "application/vnd.jupyter.widget-view+json": {
       "model_id": "2a5f3adbc24041fb9fcaf6f61e3821dc",
       "version_major": 2,
       "version_minor": 0
      },
      "text/plain": [
       "Batches:   0%|          | 0/32 [00:00<?, ?it/s]"
      ]
     },
     "metadata": {},
     "output_type": "display_data"
    },
    {
     "name": "stderr",
     "output_type": "stream",
     "text": [
      "Processing split <itertools.islice object at 0x7fab03337510>: 1000it [00:01, 724.84it/s]"
     ]
    },
    {
     "name": "stdout",
     "output_type": "stream",
     "text": [
      "Chunk: 37/80\n"
     ]
    },
    {
     "name": "stderr",
     "output_type": "stream",
     "text": [
      "\n"
     ]
    },
    {
     "data": {
      "application/vnd.jupyter.widget-view+json": {
       "model_id": "849f3f155bcf49e1b5fb9e7267c5f02d",
       "version_major": 2,
       "version_minor": 0
      },
      "text/plain": [
       "Batches:   0%|          | 0/32 [00:00<?, ?it/s]"
      ]
     },
     "metadata": {},
     "output_type": "display_data"
    },
    {
     "name": "stderr",
     "output_type": "stream",
     "text": [
      "Processing split <itertools.islice object at 0x7fab0b1bf3d0>: 1000it [00:01, 708.94it/s]"
     ]
    },
    {
     "name": "stdout",
     "output_type": "stream",
     "text": [
      "Chunk: 38/80\n"
     ]
    },
    {
     "name": "stderr",
     "output_type": "stream",
     "text": [
      "\n"
     ]
    },
    {
     "data": {
      "application/vnd.jupyter.widget-view+json": {
       "model_id": "844b753db17d4a6a8765f8fb5443bc57",
       "version_major": 2,
       "version_minor": 0
      },
      "text/plain": [
       "Batches:   0%|          | 0/32 [00:00<?, ?it/s]"
      ]
     },
     "metadata": {},
     "output_type": "display_data"
    },
    {
     "name": "stderr",
     "output_type": "stream",
     "text": [
      "Processing split <itertools.islice object at 0x7fab2c1b2160>: 1000it [00:01, 674.60it/s]"
     ]
    },
    {
     "name": "stdout",
     "output_type": "stream",
     "text": [
      "Chunk: 39/80\n"
     ]
    },
    {
     "name": "stderr",
     "output_type": "stream",
     "text": [
      "\n"
     ]
    },
    {
     "data": {
      "application/vnd.jupyter.widget-view+json": {
       "model_id": "7af66390b11f4de496aa68d5a32ed799",
       "version_major": 2,
       "version_minor": 0
      },
      "text/plain": [
       "Batches:   0%|          | 0/32 [00:00<?, ?it/s]"
      ]
     },
     "metadata": {},
     "output_type": "display_data"
    },
    {
     "name": "stderr",
     "output_type": "stream",
     "text": [
      "Processing split <itertools.islice object at 0x7fab0ae6fbf0>: 1000it [00:01, 668.10it/s]"
     ]
    },
    {
     "name": "stdout",
     "output_type": "stream",
     "text": [
      "Chunk: 40/80\n"
     ]
    },
    {
     "name": "stderr",
     "output_type": "stream",
     "text": [
      "\n"
     ]
    },
    {
     "data": {
      "application/vnd.jupyter.widget-view+json": {
       "model_id": "d14929a285ca479ab392d9fc909a0e5f",
       "version_major": 2,
       "version_minor": 0
      },
      "text/plain": [
       "Batches:   0%|          | 0/32 [00:00<?, ?it/s]"
      ]
     },
     "metadata": {},
     "output_type": "display_data"
    },
    {
     "name": "stderr",
     "output_type": "stream",
     "text": [
      "Processing split <itertools.islice object at 0x7fab2ccdeed0>: 1000it [00:01, 649.68it/s]"
     ]
    },
    {
     "name": "stdout",
     "output_type": "stream",
     "text": [
      "Chunk: 41/80\n"
     ]
    },
    {
     "name": "stderr",
     "output_type": "stream",
     "text": [
      "\n"
     ]
    },
    {
     "data": {
      "application/vnd.jupyter.widget-view+json": {
       "model_id": "14924e996e464784875c50662d573c60",
       "version_major": 2,
       "version_minor": 0
      },
      "text/plain": [
       "Batches:   0%|          | 0/32 [00:00<?, ?it/s]"
      ]
     },
     "metadata": {},
     "output_type": "display_data"
    },
    {
     "name": "stderr",
     "output_type": "stream",
     "text": [
      "Processing split <itertools.islice object at 0x7fab03f70090>: 1000it [00:01, 624.01it/s]"
     ]
    },
    {
     "name": "stdout",
     "output_type": "stream",
     "text": [
      "Chunk: 42/80\n"
     ]
    },
    {
     "name": "stderr",
     "output_type": "stream",
     "text": [
      "\n"
     ]
    },
    {
     "data": {
      "application/vnd.jupyter.widget-view+json": {
       "model_id": "e4c99910a70e48b6b75cbfbbbb584c07",
       "version_major": 2,
       "version_minor": 0
      },
      "text/plain": [
       "Batches:   0%|          | 0/32 [00:00<?, ?it/s]"
      ]
     },
     "metadata": {},
     "output_type": "display_data"
    },
    {
     "name": "stderr",
     "output_type": "stream",
     "text": [
      "Processing split <itertools.islice object at 0x7fab0aaa89a0>: 1000it [00:01, 623.32it/s]"
     ]
    },
    {
     "name": "stdout",
     "output_type": "stream",
     "text": [
      "Chunk: 43/80\n"
     ]
    },
    {
     "name": "stderr",
     "output_type": "stream",
     "text": [
      "\n"
     ]
    },
    {
     "data": {
      "application/vnd.jupyter.widget-view+json": {
       "model_id": "eb37ce6bf53a4f5ab5ecc780fbcb5110",
       "version_major": 2,
       "version_minor": 0
      },
      "text/plain": [
       "Batches:   0%|          | 0/32 [00:00<?, ?it/s]"
      ]
     },
     "metadata": {},
     "output_type": "display_data"
    },
    {
     "name": "stderr",
     "output_type": "stream",
     "text": [
      "Processing split <itertools.islice object at 0x7fab03f70090>: 1000it [00:01, 594.76it/s]"
     ]
    },
    {
     "name": "stdout",
     "output_type": "stream",
     "text": [
      "Chunk: 44/80\n"
     ]
    },
    {
     "name": "stderr",
     "output_type": "stream",
     "text": [
      "\n"
     ]
    },
    {
     "data": {
      "application/vnd.jupyter.widget-view+json": {
       "model_id": "33016e337d0e4187be446241e107b26b",
       "version_major": 2,
       "version_minor": 0
      },
      "text/plain": [
       "Batches:   0%|          | 0/32 [00:00<?, ?it/s]"
      ]
     },
     "metadata": {},
     "output_type": "display_data"
    },
    {
     "name": "stderr",
     "output_type": "stream",
     "text": [
      "Processing split <itertools.islice object at 0x7fab0a73d8a0>: 1000it [00:01, 584.39it/s]"
     ]
    },
    {
     "name": "stdout",
     "output_type": "stream",
     "text": [
      "Chunk: 45/80\n"
     ]
    },
    {
     "name": "stderr",
     "output_type": "stream",
     "text": [
      "\n"
     ]
    },
    {
     "data": {
      "application/vnd.jupyter.widget-view+json": {
       "model_id": "815998907db04a8fa479ebaa0f4c8562",
       "version_major": 2,
       "version_minor": 0
      },
      "text/plain": [
       "Batches:   0%|          | 0/32 [00:00<?, ?it/s]"
      ]
     },
     "metadata": {},
     "output_type": "display_data"
    },
    {
     "name": "stderr",
     "output_type": "stream",
     "text": [
      "Processing split <itertools.islice object at 0x7fab0a9965c0>: 1000it [00:01, 578.63it/s]"
     ]
    },
    {
     "name": "stdout",
     "output_type": "stream",
     "text": [
      "Chunk: 46/80\n"
     ]
    },
    {
     "name": "stderr",
     "output_type": "stream",
     "text": [
      "\n"
     ]
    },
    {
     "data": {
      "application/vnd.jupyter.widget-view+json": {
       "model_id": "7829ea585ee544109104fc1ad4b9c350",
       "version_major": 2,
       "version_minor": 0
      },
      "text/plain": [
       "Batches:   0%|          | 0/32 [00:00<?, ?it/s]"
      ]
     },
     "metadata": {},
     "output_type": "display_data"
    },
    {
     "name": "stderr",
     "output_type": "stream",
     "text": [
      "Processing split <itertools.islice object at 0x7fab0a8910d0>: 1000it [00:01, 563.47it/s]"
     ]
    },
    {
     "name": "stdout",
     "output_type": "stream",
     "text": [
      "Chunk: 47/80\n"
     ]
    },
    {
     "name": "stderr",
     "output_type": "stream",
     "text": [
      "\n"
     ]
    },
    {
     "data": {
      "application/vnd.jupyter.widget-view+json": {
       "model_id": "537b4261a2a74ea59a89c3ec95fb46b3",
       "version_major": 2,
       "version_minor": 0
      },
      "text/plain": [
       "Batches:   0%|          | 0/32 [00:00<?, ?it/s]"
      ]
     },
     "metadata": {},
     "output_type": "display_data"
    },
    {
     "name": "stderr",
     "output_type": "stream",
     "text": [
      "Processing split <itertools.islice object at 0x7fab0b433ba0>: 1000it [00:01, 557.01it/s]"
     ]
    },
    {
     "name": "stdout",
     "output_type": "stream",
     "text": [
      "Chunk: 48/80\n"
     ]
    },
    {
     "name": "stderr",
     "output_type": "stream",
     "text": [
      "\n"
     ]
    },
    {
     "data": {
      "application/vnd.jupyter.widget-view+json": {
       "model_id": "06c8ba19d7074b03a7722b4efd0c51ad",
       "version_major": 2,
       "version_minor": 0
      },
      "text/plain": [
       "Batches:   0%|          | 0/32 [00:00<?, ?it/s]"
      ]
     },
     "metadata": {},
     "output_type": "display_data"
    },
    {
     "name": "stderr",
     "output_type": "stream",
     "text": [
      "Processing split <itertools.islice object at 0x7fab0a2da930>: 1000it [00:01, 548.16it/s]"
     ]
    },
    {
     "name": "stdout",
     "output_type": "stream",
     "text": [
      "Chunk: 49/80\n"
     ]
    },
    {
     "name": "stderr",
     "output_type": "stream",
     "text": [
      "\n"
     ]
    },
    {
     "data": {
      "application/vnd.jupyter.widget-view+json": {
       "model_id": "fad02890ba4648cd9507b1da14f9fd74",
       "version_major": 2,
       "version_minor": 0
      },
      "text/plain": [
       "Batches:   0%|          | 0/32 [00:00<?, ?it/s]"
      ]
     },
     "metadata": {},
     "output_type": "display_data"
    },
    {
     "name": "stderr",
     "output_type": "stream",
     "text": [
      "Processing split <itertools.islice object at 0x7fab0a1fff10>: 1000it [00:01, 531.75it/s]"
     ]
    },
    {
     "name": "stdout",
     "output_type": "stream",
     "text": [
      "Chunk: 50/80\n"
     ]
    },
    {
     "name": "stderr",
     "output_type": "stream",
     "text": [
      "\n"
     ]
    },
    {
     "data": {
      "application/vnd.jupyter.widget-view+json": {
       "model_id": "8dfaa8b2133a44d193266b3ac1980488",
       "version_major": 2,
       "version_minor": 0
      },
      "text/plain": [
       "Batches:   0%|          | 0/32 [00:00<?, ?it/s]"
      ]
     },
     "metadata": {},
     "output_type": "display_data"
    },
    {
     "name": "stderr",
     "output_type": "stream",
     "text": [
      "Processing split <itertools.islice object at 0x7fab2c90e5c0>: 1000it [00:01, 530.81it/s]"
     ]
    },
    {
     "name": "stdout",
     "output_type": "stream",
     "text": [
      "Chunk: 51/80\n"
     ]
    },
    {
     "name": "stderr",
     "output_type": "stream",
     "text": [
      "\n"
     ]
    },
    {
     "data": {
      "application/vnd.jupyter.widget-view+json": {
       "model_id": "e691f25d475f49b0a50baf403057329a",
       "version_major": 2,
       "version_minor": 0
      },
      "text/plain": [
       "Batches:   0%|          | 0/32 [00:00<?, ?it/s]"
      ]
     },
     "metadata": {},
     "output_type": "display_data"
    },
    {
     "name": "stderr",
     "output_type": "stream",
     "text": [
      "Processing split <itertools.islice object at 0x7fab2c7a2ca0>: 1000it [00:01, 507.07it/s]"
     ]
    },
    {
     "name": "stdout",
     "output_type": "stream",
     "text": [
      "Chunk: 52/80\n"
     ]
    },
    {
     "name": "stderr",
     "output_type": "stream",
     "text": [
      "\n"
     ]
    },
    {
     "data": {
      "application/vnd.jupyter.widget-view+json": {
       "model_id": "3dccba47f2ff49b3abdac9ad700b5ade",
       "version_major": 2,
       "version_minor": 0
      },
      "text/plain": [
       "Batches:   0%|          | 0/32 [00:00<?, ?it/s]"
      ]
     },
     "metadata": {},
     "output_type": "display_data"
    },
    {
     "name": "stderr",
     "output_type": "stream",
     "text": [
      "Processing split <itertools.islice object at 0x7fab0a890810>: 1000it [00:01, 509.76it/s]"
     ]
    },
    {
     "name": "stdout",
     "output_type": "stream",
     "text": [
      "Chunk: 53/80\n"
     ]
    },
    {
     "name": "stderr",
     "output_type": "stream",
     "text": [
      "\n"
     ]
    },
    {
     "data": {
      "application/vnd.jupyter.widget-view+json": {
       "model_id": "2a91ec62df824454a307c5e3cd3c121a",
       "version_major": 2,
       "version_minor": 0
      },
      "text/plain": [
       "Batches:   0%|          | 0/32 [00:00<?, ?it/s]"
      ]
     },
     "metadata": {},
     "output_type": "display_data"
    },
    {
     "name": "stderr",
     "output_type": "stream",
     "text": [
      "Processing split <itertools.islice object at 0x7fab09b17790>: 1000it [00:02, 494.68it/s]"
     ]
    },
    {
     "name": "stdout",
     "output_type": "stream",
     "text": [
      "Chunk: 54/80\n"
     ]
    },
    {
     "name": "stderr",
     "output_type": "stream",
     "text": [
      "\n"
     ]
    },
    {
     "data": {
      "application/vnd.jupyter.widget-view+json": {
       "model_id": "079cb58b35a149e2895d8313901081ff",
       "version_major": 2,
       "version_minor": 0
      },
      "text/plain": [
       "Batches:   0%|          | 0/32 [00:00<?, ?it/s]"
      ]
     },
     "metadata": {},
     "output_type": "display_data"
    },
    {
     "name": "stderr",
     "output_type": "stream",
     "text": [
      "Processing split <itertools.islice object at 0x7fab09b75d50>: 1000it [00:02, 483.48it/s]"
     ]
    },
    {
     "name": "stdout",
     "output_type": "stream",
     "text": [
      "Chunk: 55/80\n"
     ]
    },
    {
     "name": "stderr",
     "output_type": "stream",
     "text": [
      "\n"
     ]
    },
    {
     "data": {
      "application/vnd.jupyter.widget-view+json": {
       "model_id": "de5926bba4a8422cb602403381f5a8ac",
       "version_major": 2,
       "version_minor": 0
      },
      "text/plain": [
       "Batches:   0%|          | 0/32 [00:00<?, ?it/s]"
      ]
     },
     "metadata": {},
     "output_type": "display_data"
    },
    {
     "name": "stderr",
     "output_type": "stream",
     "text": [
      "Processing split <itertools.islice object at 0x7fab09a64f90>: 1000it [00:02, 473.28it/s]"
     ]
    },
    {
     "name": "stdout",
     "output_type": "stream",
     "text": [
      "Chunk: 56/80\n"
     ]
    },
    {
     "name": "stderr",
     "output_type": "stream",
     "text": [
      "\n"
     ]
    },
    {
     "data": {
      "application/vnd.jupyter.widget-view+json": {
       "model_id": "f47c8976a30245ecad2c6a58ab45a74d",
       "version_major": 2,
       "version_minor": 0
      },
      "text/plain": [
       "Batches:   0%|          | 0/32 [00:00<?, ?it/s]"
      ]
     },
     "metadata": {},
     "output_type": "display_data"
    },
    {
     "name": "stderr",
     "output_type": "stream",
     "text": [
      "Processing split <itertools.islice object at 0x7fab09a67a10>: 1000it [00:02, 471.29it/s]"
     ]
    },
    {
     "name": "stdout",
     "output_type": "stream",
     "text": [
      "Chunk: 57/80\n"
     ]
    },
    {
     "name": "stderr",
     "output_type": "stream",
     "text": [
      "\n"
     ]
    },
    {
     "data": {
      "application/vnd.jupyter.widget-view+json": {
       "model_id": "236894a1eec74d67a2c758a6f5ae03ea",
       "version_major": 2,
       "version_minor": 0
      },
      "text/plain": [
       "Batches:   0%|          | 0/32 [00:00<?, ?it/s]"
      ]
     },
     "metadata": {},
     "output_type": "display_data"
    },
    {
     "name": "stderr",
     "output_type": "stream",
     "text": [
      "Processing split <itertools.islice object at 0x7fab09a22930>: 1000it [00:02, 461.77it/s]"
     ]
    },
    {
     "name": "stdout",
     "output_type": "stream",
     "text": [
      "Chunk: 58/80\n"
     ]
    },
    {
     "name": "stderr",
     "output_type": "stream",
     "text": [
      "\n"
     ]
    },
    {
     "data": {
      "application/vnd.jupyter.widget-view+json": {
       "model_id": "30ede507676a4eb6a4e83bc7cb56d7c3",
       "version_major": 2,
       "version_minor": 0
      },
      "text/plain": [
       "Batches:   0%|          | 0/32 [00:00<?, ?it/s]"
      ]
     },
     "metadata": {},
     "output_type": "display_data"
    },
    {
     "name": "stderr",
     "output_type": "stream",
     "text": [
      "Processing split <itertools.islice object at 0x7fab704e9a30>: 1000it [00:02, 448.38it/s]"
     ]
    },
    {
     "name": "stdout",
     "output_type": "stream",
     "text": [
      "Chunk: 59/80\n"
     ]
    },
    {
     "name": "stderr",
     "output_type": "stream",
     "text": [
      "\n"
     ]
    },
    {
     "data": {
      "application/vnd.jupyter.widget-view+json": {
       "model_id": "6253372e4f3a4277bf810c0da43c88ee",
       "version_major": 2,
       "version_minor": 0
      },
      "text/plain": [
       "Batches:   0%|          | 0/32 [00:00<?, ?it/s]"
      ]
     },
     "metadata": {},
     "output_type": "display_data"
    },
    {
     "name": "stderr",
     "output_type": "stream",
     "text": [
      "Processing split <itertools.islice object at 0x7fab0992e430>: 1000it [00:02, 448.81it/s]"
     ]
    },
    {
     "name": "stdout",
     "output_type": "stream",
     "text": [
      "Chunk: 60/80\n"
     ]
    },
    {
     "name": "stderr",
     "output_type": "stream",
     "text": [
      "\n"
     ]
    },
    {
     "data": {
      "application/vnd.jupyter.widget-view+json": {
       "model_id": "6d6238399b054d20b31fd830df762329",
       "version_major": 2,
       "version_minor": 0
      },
      "text/plain": [
       "Batches:   0%|          | 0/32 [00:00<?, ?it/s]"
      ]
     },
     "metadata": {},
     "output_type": "display_data"
    },
    {
     "name": "stderr",
     "output_type": "stream",
     "text": [
      "Processing split <itertools.islice object at 0x7fab098e9c60>: 1000it [00:02, 438.40it/s]"
     ]
    },
    {
     "name": "stdout",
     "output_type": "stream",
     "text": [
      "Chunk: 61/80\n"
     ]
    },
    {
     "name": "stderr",
     "output_type": "stream",
     "text": [
      "\n"
     ]
    },
    {
     "data": {
      "application/vnd.jupyter.widget-view+json": {
       "model_id": "a35253b82a404cd78a7033117dcf9d42",
       "version_major": 2,
       "version_minor": 0
      },
      "text/plain": [
       "Batches:   0%|          | 0/32 [00:00<?, ?it/s]"
      ]
     },
     "metadata": {},
     "output_type": "display_data"
    },
    {
     "name": "stderr",
     "output_type": "stream",
     "text": [
      "Processing split <itertools.islice object at 0x7fab0992bc40>: 1000it [00:02, 424.04it/s]"
     ]
    },
    {
     "name": "stdout",
     "output_type": "stream",
     "text": [
      "Chunk: 62/80\n"
     ]
    },
    {
     "name": "stderr",
     "output_type": "stream",
     "text": [
      "\n"
     ]
    },
    {
     "data": {
      "application/vnd.jupyter.widget-view+json": {
       "model_id": "c3b316332d1945109c8c8e7a64e70bf1",
       "version_major": 2,
       "version_minor": 0
      },
      "text/plain": [
       "Batches:   0%|          | 0/32 [00:00<?, ?it/s]"
      ]
     },
     "metadata": {},
     "output_type": "display_data"
    },
    {
     "name": "stderr",
     "output_type": "stream",
     "text": [
      "Processing split <itertools.islice object at 0x7fab09a209a0>: 1000it [00:02, 425.36it/s]"
     ]
    },
    {
     "name": "stdout",
     "output_type": "stream",
     "text": [
      "Chunk: 63/80\n"
     ]
    },
    {
     "name": "stderr",
     "output_type": "stream",
     "text": [
      "\n"
     ]
    },
    {
     "data": {
      "application/vnd.jupyter.widget-view+json": {
       "model_id": "55da634335f249938a370b7563ba97f1",
       "version_major": 2,
       "version_minor": 0
      },
      "text/plain": [
       "Batches:   0%|          | 0/32 [00:00<?, ?it/s]"
      ]
     },
     "metadata": {},
     "output_type": "display_data"
    },
    {
     "name": "stderr",
     "output_type": "stream",
     "text": [
      "Processing split <itertools.islice object at 0x7fab08fd73d0>: 1000it [00:02, 418.82it/s]"
     ]
    },
    {
     "name": "stdout",
     "output_type": "stream",
     "text": [
      "Chunk: 64/80\n"
     ]
    },
    {
     "name": "stderr",
     "output_type": "stream",
     "text": [
      "\n"
     ]
    },
    {
     "data": {
      "application/vnd.jupyter.widget-view+json": {
       "model_id": "ee073f99c5614621bbc416fee031688a",
       "version_major": 2,
       "version_minor": 0
      },
      "text/plain": [
       "Batches:   0%|          | 0/32 [00:00<?, ?it/s]"
      ]
     },
     "metadata": {},
     "output_type": "display_data"
    },
    {
     "name": "stderr",
     "output_type": "stream",
     "text": [
      "Processing split <itertools.islice object at 0x7fab09a209a0>: 1000it [00:02, 410.31it/s]"
     ]
    },
    {
     "name": "stdout",
     "output_type": "stream",
     "text": [
      "Chunk: 65/80\n"
     ]
    },
    {
     "name": "stderr",
     "output_type": "stream",
     "text": [
      "\n"
     ]
    },
    {
     "data": {
      "application/vnd.jupyter.widget-view+json": {
       "model_id": "982a1a82769d4680bd7a150524b09b9f",
       "version_major": 2,
       "version_minor": 0
      },
      "text/plain": [
       "Batches:   0%|          | 0/32 [00:00<?, ?it/s]"
      ]
     },
     "metadata": {},
     "output_type": "display_data"
    },
    {
     "name": "stderr",
     "output_type": "stream",
     "text": [
      "Processing split <itertools.islice object at 0x7fab08de8f40>: 1000it [00:02, 401.30it/s]"
     ]
    },
    {
     "name": "stdout",
     "output_type": "stream",
     "text": [
      "Chunk: 66/80\n"
     ]
    },
    {
     "name": "stderr",
     "output_type": "stream",
     "text": [
      "\n"
     ]
    },
    {
     "data": {
      "application/vnd.jupyter.widget-view+json": {
       "model_id": "42f1bd2852d04366b69b326b639e1fe4",
       "version_major": 2,
       "version_minor": 0
      },
      "text/plain": [
       "Batches:   0%|          | 0/32 [00:00<?, ?it/s]"
      ]
     },
     "metadata": {},
     "output_type": "display_data"
    },
    {
     "name": "stderr",
     "output_type": "stream",
     "text": [
      "Processing split <itertools.islice object at 0x7fab08de7a10>: 1000it [00:02, 400.49it/s]"
     ]
    },
    {
     "name": "stdout",
     "output_type": "stream",
     "text": [
      "Chunk: 67/80\n"
     ]
    },
    {
     "name": "stderr",
     "output_type": "stream",
     "text": [
      "\n"
     ]
    },
    {
     "data": {
      "application/vnd.jupyter.widget-view+json": {
       "model_id": "dd736ae861cd4c2f870bba4cff82853e",
       "version_major": 2,
       "version_minor": 0
      },
      "text/plain": [
       "Batches:   0%|          | 0/32 [00:00<?, ?it/s]"
      ]
     },
     "metadata": {},
     "output_type": "display_data"
    },
    {
     "name": "stderr",
     "output_type": "stream",
     "text": [
      "Processing split <itertools.islice object at 0x7fab09e4b1a0>: 1000it [00:02, 396.77it/s]"
     ]
    },
    {
     "name": "stdout",
     "output_type": "stream",
     "text": [
      "Chunk: 68/80\n"
     ]
    },
    {
     "name": "stderr",
     "output_type": "stream",
     "text": [
      "\n"
     ]
    },
    {
     "data": {
      "application/vnd.jupyter.widget-view+json": {
       "model_id": "ed6f6417701c473b98305e72b3b8b9ea",
       "version_major": 2,
       "version_minor": 0
      },
      "text/plain": [
       "Batches:   0%|          | 0/32 [00:00<?, ?it/s]"
      ]
     },
     "metadata": {},
     "output_type": "display_data"
    },
    {
     "name": "stderr",
     "output_type": "stream",
     "text": [
      "Processing split <itertools.islice object at 0x7fab08ce9b70>: 1000it [00:02, 392.26it/s]"
     ]
    },
    {
     "name": "stdout",
     "output_type": "stream",
     "text": [
      "Chunk: 69/80\n"
     ]
    },
    {
     "name": "stderr",
     "output_type": "stream",
     "text": [
      "\n"
     ]
    },
    {
     "data": {
      "application/vnd.jupyter.widget-view+json": {
       "model_id": "854c00a3c1b54681ab844124530eae69",
       "version_major": 2,
       "version_minor": 0
      },
      "text/plain": [
       "Batches:   0%|          | 0/32 [00:00<?, ?it/s]"
      ]
     },
     "metadata": {},
     "output_type": "display_data"
    },
    {
     "name": "stderr",
     "output_type": "stream",
     "text": [
      "Processing split <itertools.islice object at 0x7fab0a4b8f40>: 1000it [00:02, 389.89it/s]"
     ]
    },
    {
     "name": "stdout",
     "output_type": "stream",
     "text": [
      "Chunk: 70/80\n"
     ]
    },
    {
     "name": "stderr",
     "output_type": "stream",
     "text": [
      "\n"
     ]
    },
    {
     "data": {
      "application/vnd.jupyter.widget-view+json": {
       "model_id": "bc4d2f797bc1400c94023ebad2a3b2d8",
       "version_major": 2,
       "version_minor": 0
      },
      "text/plain": [
       "Batches:   0%|          | 0/32 [00:00<?, ?it/s]"
      ]
     },
     "metadata": {},
     "output_type": "display_data"
    },
    {
     "name": "stderr",
     "output_type": "stream",
     "text": [
      "Processing split <itertools.islice object at 0x7fab088d0f40>: 1000it [00:02, 373.88it/s]"
     ]
    },
    {
     "name": "stdout",
     "output_type": "stream",
     "text": [
      "Chunk: 71/80\n"
     ]
    },
    {
     "name": "stderr",
     "output_type": "stream",
     "text": [
      "\n"
     ]
    },
    {
     "data": {
      "application/vnd.jupyter.widget-view+json": {
       "model_id": "25751561167247308c22b0a2174e8e15",
       "version_major": 2,
       "version_minor": 0
      },
      "text/plain": [
       "Batches:   0%|          | 0/32 [00:00<?, ?it/s]"
      ]
     },
     "metadata": {},
     "output_type": "display_data"
    },
    {
     "name": "stderr",
     "output_type": "stream",
     "text": [
      "Processing split <itertools.islice object at 0x7fab088c6430>: 1000it [00:02, 372.02it/s]"
     ]
    },
    {
     "name": "stdout",
     "output_type": "stream",
     "text": [
      "Chunk: 72/80\n"
     ]
    },
    {
     "name": "stderr",
     "output_type": "stream",
     "text": [
      "\n"
     ]
    },
    {
     "data": {
      "application/vnd.jupyter.widget-view+json": {
       "model_id": "3568fc5202be4d4eb25f7a5d1548403b",
       "version_major": 2,
       "version_minor": 0
      },
      "text/plain": [
       "Batches:   0%|          | 0/32 [00:00<?, ?it/s]"
      ]
     },
     "metadata": {},
     "output_type": "display_data"
    },
    {
     "name": "stderr",
     "output_type": "stream",
     "text": [
      "Processing split <itertools.islice object at 0x7fab086a2930>: 1000it [00:03, 332.52it/s]"
     ]
    },
    {
     "name": "stdout",
     "output_type": "stream",
     "text": [
      "Chunk: 73/80\n"
     ]
    },
    {
     "name": "stderr",
     "output_type": "stream",
     "text": [
      "\n"
     ]
    },
    {
     "data": {
      "application/vnd.jupyter.widget-view+json": {
       "model_id": "db5251b7a33c4116a3bf8b1fc09e6542",
       "version_major": 2,
       "version_minor": 0
      },
      "text/plain": [
       "Batches:   0%|          | 0/32 [00:00<?, ?it/s]"
      ]
     },
     "metadata": {},
     "output_type": "display_data"
    },
    {
     "name": "stderr",
     "output_type": "stream",
     "text": [
      "Processing split <itertools.islice object at 0x7fab08de7a10>: 1000it [00:02, 362.55it/s]"
     ]
    },
    {
     "name": "stdout",
     "output_type": "stream",
     "text": [
      "Chunk: 74/80\n"
     ]
    },
    {
     "name": "stderr",
     "output_type": "stream",
     "text": [
      "\n"
     ]
    },
    {
     "data": {
      "application/vnd.jupyter.widget-view+json": {
       "model_id": "ef73eccfad7746a29ffa6654b9cc5e66",
       "version_major": 2,
       "version_minor": 0
      },
      "text/plain": [
       "Batches:   0%|          | 0/32 [00:00<?, ?it/s]"
      ]
     },
     "metadata": {},
     "output_type": "display_data"
    },
    {
     "name": "stderr",
     "output_type": "stream",
     "text": [
      "Processing split <itertools.islice object at 0x7fab085aff10>: 1000it [00:02, 356.70it/s]"
     ]
    },
    {
     "name": "stdout",
     "output_type": "stream",
     "text": [
      "Chunk: 75/80\n"
     ]
    },
    {
     "name": "stderr",
     "output_type": "stream",
     "text": [
      "\n"
     ]
    },
    {
     "data": {
      "application/vnd.jupyter.widget-view+json": {
       "model_id": "52df4b43d9894e45b1237d7447f94934",
       "version_major": 2,
       "version_minor": 0
      },
      "text/plain": [
       "Batches:   0%|          | 0/32 [00:00<?, ?it/s]"
      ]
     },
     "metadata": {},
     "output_type": "display_data"
    },
    {
     "name": "stderr",
     "output_type": "stream",
     "text": [
      "Processing split <itertools.islice object at 0x7fab03f631a0>: 1000it [00:02, 351.49it/s]"
     ]
    },
    {
     "name": "stdout",
     "output_type": "stream",
     "text": [
      "Chunk: 76/80\n"
     ]
    },
    {
     "name": "stderr",
     "output_type": "stream",
     "text": [
      "\n"
     ]
    },
    {
     "data": {
      "application/vnd.jupyter.widget-view+json": {
       "model_id": "72e537c2eb8a457fad8e206ab13a6e9d",
       "version_major": 2,
       "version_minor": 0
      },
      "text/plain": [
       "Batches:   0%|          | 0/32 [00:00<?, ?it/s]"
      ]
     },
     "metadata": {},
     "output_type": "display_data"
    },
    {
     "name": "stderr",
     "output_type": "stream",
     "text": [
      "Processing split <itertools.islice object at 0x7fab085af510>: 1000it [00:02, 347.95it/s]"
     ]
    },
    {
     "name": "stdout",
     "output_type": "stream",
     "text": [
      "Chunk: 77/80\n"
     ]
    },
    {
     "name": "stderr",
     "output_type": "stream",
     "text": [
      "\n"
     ]
    },
    {
     "data": {
      "application/vnd.jupyter.widget-view+json": {
       "model_id": "0a8d9262a6304af2bfe49daea20f8c80",
       "version_major": 2,
       "version_minor": 0
      },
      "text/plain": [
       "Batches:   0%|          | 0/32 [00:00<?, ?it/s]"
      ]
     },
     "metadata": {},
     "output_type": "display_data"
    },
    {
     "name": "stderr",
     "output_type": "stream",
     "text": [
      "Processing split <itertools.islice object at 0x7fab02b3e430>: 1000it [00:02, 344.71it/s]"
     ]
    },
    {
     "name": "stdout",
     "output_type": "stream",
     "text": [
      "Chunk: 78/80\n"
     ]
    },
    {
     "name": "stderr",
     "output_type": "stream",
     "text": [
      "\n"
     ]
    },
    {
     "data": {
      "application/vnd.jupyter.widget-view+json": {
       "model_id": "023ae925a3c34d5793a0f1fa8b65992f",
       "version_major": 2,
       "version_minor": 0
      },
      "text/plain": [
       "Batches:   0%|          | 0/32 [00:00<?, ?it/s]"
      ]
     },
     "metadata": {},
     "output_type": "display_data"
    },
    {
     "name": "stderr",
     "output_type": "stream",
     "text": [
      "Processing split <itertools.islice object at 0x7fab029ef510>: 456it [00:02, 157.85it/s]"
     ]
    },
    {
     "name": "stdout",
     "output_type": "stream",
     "text": [
      "Chunk: 79/80\n"
     ]
    },
    {
     "name": "stderr",
     "output_type": "stream",
     "text": [
      "\n"
     ]
    },
    {
     "data": {
      "application/vnd.jupyter.widget-view+json": {
       "model_id": "11e485525d8f4514868c285039c5f71b",
       "version_major": 2,
       "version_minor": 0
      },
      "text/plain": [
       "Batches:   0%|          | 0/15 [00:00<?, ?it/s]"
      ]
     },
     "metadata": {},
     "output_type": "display_data"
    },
    {
     "name": "stdout",
     "output_type": "stream",
     "text": [
      "Done\n"
     ]
    }
   ],
   "source": [
    "chunk_size = 1000\n",
    "# create_vector_store_from_dataset(dataset, collection_name, vector_store, chunk_size)\n",
    "for i in range(0, len(dataset), chunk_size):\n",
    "    # Lặp qua tất cả các split (train, test, validation)\n",
    "    documents = []\n",
    "    chunk = islice(dataset, i, i + chunk_size)\n",
    "    for row in tqdm(chunk, desc=f\"Processing split {chunk}\"):\n",
    "        text = row['context']\n",
    "        if isinstance(text, list):\n",
    "                text = \" \".join(text)  # Nối list thành string nếu cần\n",
    "        # Tiền xử lý text nếu cần\n",
    "        if '\"' in text:\n",
    "            text = text.replace('\"', '')\n",
    "        if r'\\n' in text:\n",
    "            text = text.replace(r'\\n', '')\n",
    "        if r'/' in text:\n",
    "            text = text.replace(r'/', '')\n",
    "\n",
    "        doc = Document(\n",
    "            page_content=text,\n",
    "            metadata={\"cid\": row['cid']},\n",
    "        )\n",
    "        documents.append(doc)\n",
    "    uuids = [str(uuid4()) for _ in range(len(documents))]\n",
    "    print(f\"Chunk: {i // chunk_size}/{len(dataset) // chunk_size + 1}\")\n",
    "    vector_store.add_documents(documents=documents, ids=uuids)\n",
    "\n",
    "print(\"Done\")"
   ]
  },
  {
   "cell_type": "code",
   "execution_count": 11,
   "id": "87412a68",
   "metadata": {},
   "outputs": [],
   "source": [
    "faiss_path = \"VectorStore/Train_Legal_v1.faiss\""
   ]
  },
  {
   "cell_type": "code",
   "execution_count": null,
   "id": "7e2b5003",
   "metadata": {},
   "outputs": [
    {
     "name": "stdout",
     "output_type": "stream",
     "text": [
      "Collection AstraDB_Train_Legal_v2 created successfully\n"
     ]
    }
   ],
   "source": [
    "\n",
    "vector_store.save_local(faiss_path)\n",
    "print(f\"Collection {collection_name} created successfully\")"
   ]
  },
  {
   "cell_type": "code",
   "execution_count": null,
   "id": "54b3c256-04e0-4c95-b12d-a8a43e77e02a",
   "metadata": {},
   "outputs": [
    {
     "name": "stderr",
     "output_type": "stream",
     "text": [
      "2024-11-25 07:04:24,035\tINFO util.py:154 -- Outdated packages:\n",
      "  ipywidgets==7.8.1 found, needs ipywidgets>=8\n",
      "Run `pip install -U ipywidgets`, then restart the notebook server for rich notebook output.\n",
      "2024-11-25 07:04:24,059\tINFO worker.py:1634 -- Connecting to existing Ray cluster at address: 10.0.0.4:6379...\n",
      "2024-11-25 07:04:24,068\tINFO worker.py:1810 -- Connected to Ray cluster. View the dashboard at \u001b[1m\u001b[32m127.0.0.1:8265 \u001b[39m\u001b[22m\n"
     ]
    },
    {
     "data": {
      "text/html": [
       "<div class=\"lm-Widget p-Widget lm-Panel p-Panel jp-Cell-outputWrapper\">\n",
       "    <div style=\"margin-left: 50px;display: flex;flex-direction: row;align-items: center\">\n",
       "        <div class=\"jp-RenderedHTMLCommon\" style=\"display: flex; flex-direction: row;\">\n",
       "  <svg viewBox=\"0 0 567 224\" fill=\"none\" xmlns=\"http://www.w3.org/2000/svg\" style=\"height: 3em;\">\n",
       "    <g clip-path=\"url(#clip0_4338_178347)\">\n",
       "        <path d=\"M341.29 165.561H355.29L330.13 129.051C345.63 123.991 354.21 112.051 354.21 94.2307C354.21 71.3707 338.72 58.1807 311.88 58.1807H271V165.561H283.27V131.661H311.8C314.25 131.661 316.71 131.501 319.01 131.351L341.25 165.561H341.29ZM283.29 119.851V70.0007H311.82C331.3 70.0007 342.34 78.2907 342.34 94.5507C342.34 111.271 331.34 119.861 311.82 119.861L283.29 119.851ZM451.4 138.411L463.4 165.561H476.74L428.74 58.1807H416L367.83 165.561H380.83L392.83 138.411H451.4ZM446.19 126.601H398L422 72.1407L446.24 126.601H446.19ZM526.11 128.741L566.91 58.1807H554.35L519.99 114.181L485.17 58.1807H472.44L514.01 129.181V165.541H526.13V128.741H526.11Z\" fill=\"var(--jp-ui-font-color0)\"/>\n",
       "        <path d=\"M82.35 104.44C84.0187 97.8827 87.8248 92.0678 93.1671 87.9146C98.5094 83.7614 105.083 81.5067 111.85 81.5067C118.617 81.5067 125.191 83.7614 130.533 87.9146C135.875 92.0678 139.681 97.8827 141.35 104.44H163.75C164.476 101.562 165.622 98.8057 167.15 96.2605L127.45 56.5605C121.071 60.3522 113.526 61.6823 106.235 60.3005C98.9443 58.9187 92.4094 54.9203 87.8602 49.0574C83.3109 43.1946 81.0609 35.8714 81.5332 28.4656C82.0056 21.0599 85.1679 14.0819 90.4252 8.8446C95.6824 3.60726 102.672 0.471508 110.08 0.0272655C117.487 -0.416977 124.802 1.86091 130.647 6.4324C136.493 11.0039 140.467 17.5539 141.821 24.8501C143.175 32.1463 141.816 39.6859 138 46.0505L177.69 85.7505C182.31 82.9877 187.58 81.4995 192.962 81.4375C198.345 81.3755 203.648 82.742 208.33 85.3976C213.012 88.0532 216.907 91.9029 219.616 96.5544C222.326 101.206 223.753 106.492 223.753 111.875C223.753 117.258 222.326 122.545 219.616 127.197C216.907 131.848 213.012 135.698 208.33 138.353C203.648 141.009 198.345 142.375 192.962 142.313C187.58 142.251 182.31 140.763 177.69 138L138 177.7C141.808 184.071 143.155 191.614 141.79 198.91C140.424 206.205 136.44 212.75 130.585 217.313C124.731 221.875 117.412 224.141 110.004 223.683C102.596 223.226 95.6103 220.077 90.3621 214.828C85.1139 209.58 81.9647 202.595 81.5072 195.187C81.0497 187.779 83.3154 180.459 87.878 174.605C92.4405 168.751 98.9853 164.766 106.281 163.401C113.576 162.035 121.119 163.383 127.49 167.19L167.19 127.49C165.664 124.941 164.518 122.182 163.79 119.3H141.39C139.721 125.858 135.915 131.673 130.573 135.826C125.231 139.98 118.657 142.234 111.89 142.234C105.123 142.234 98.5494 139.98 93.2071 135.826C87.8648 131.673 84.0587 125.858 82.39 119.3H60C58.1878 126.495 53.8086 132.78 47.6863 136.971C41.5641 141.163 34.1211 142.972 26.7579 142.059C19.3947 141.146 12.6191 137.574 7.70605 132.014C2.79302 126.454 0.0813599 119.29 0.0813599 111.87C0.0813599 104.451 2.79302 97.2871 7.70605 91.7272C12.6191 86.1673 19.3947 82.5947 26.7579 81.6817C34.1211 80.7686 41.5641 82.5781 47.6863 86.7696C53.8086 90.9611 58.1878 97.2456 60 104.44H82.35ZM100.86 204.32C103.407 206.868 106.759 208.453 110.345 208.806C113.93 209.159 117.527 208.258 120.522 206.256C123.517 204.254 125.725 201.276 126.771 197.828C127.816 194.38 127.633 190.677 126.253 187.349C124.874 184.021 122.383 181.274 119.205 179.577C116.027 177.88 112.359 177.337 108.826 178.042C105.293 178.746 102.113 180.654 99.8291 183.44C97.5451 186.226 96.2979 189.718 96.3 193.32C96.2985 195.364 96.7006 197.388 97.4831 199.275C98.2656 201.163 99.4132 202.877 100.86 204.32ZM204.32 122.88C206.868 120.333 208.453 116.981 208.806 113.396C209.159 109.811 208.258 106.214 206.256 103.219C204.254 100.223 201.275 98.0151 197.827 96.97C194.38 95.9249 190.676 96.1077 187.348 97.4873C184.02 98.8669 181.274 101.358 179.577 104.536C177.879 107.714 177.337 111.382 178.041 114.915C178.746 118.448 180.653 121.627 183.439 123.911C186.226 126.195 189.717 127.443 193.32 127.44C195.364 127.443 197.388 127.042 199.275 126.259C201.163 125.476 202.878 124.328 204.32 122.88ZM122.88 19.4205C120.333 16.8729 116.981 15.2876 113.395 14.9347C109.81 14.5817 106.213 15.483 103.218 17.4849C100.223 19.4868 98.0146 22.4654 96.9696 25.9131C95.9245 29.3608 96.1073 33.0642 97.4869 36.3922C98.8665 39.7202 101.358 42.4668 104.535 44.1639C107.713 45.861 111.381 46.4036 114.914 45.6992C118.447 44.9949 121.627 43.0871 123.911 40.301C126.195 37.515 127.442 34.0231 127.44 30.4205C127.44 28.3772 127.038 26.3539 126.255 24.4664C125.473 22.5788 124.326 20.8642 122.88 19.4205ZM19.42 100.86C16.8725 103.408 15.2872 106.76 14.9342 110.345C14.5813 113.93 15.4826 117.527 17.4844 120.522C19.4863 123.518 22.4649 125.726 25.9127 126.771C29.3604 127.816 33.0638 127.633 36.3918 126.254C39.7198 124.874 42.4664 122.383 44.1635 119.205C45.8606 116.027 46.4032 112.359 45.6988 108.826C44.9944 105.293 43.0866 102.114 40.3006 99.8296C37.5145 97.5455 34.0227 96.2983 30.42 96.3005C26.2938 96.3018 22.337 97.9421 19.42 100.86ZM100.86 100.86C98.3125 103.408 96.7272 106.76 96.3742 110.345C96.0213 113.93 96.9226 117.527 98.9244 120.522C100.926 123.518 103.905 125.726 107.353 126.771C110.8 127.816 114.504 127.633 117.832 126.254C121.16 124.874 123.906 122.383 125.604 119.205C127.301 116.027 127.843 112.359 127.139 108.826C126.434 105.293 124.527 102.114 121.741 99.8296C118.955 97.5455 115.463 96.2983 111.86 96.3005C109.817 96.299 107.793 96.701 105.905 97.4835C104.018 98.2661 102.303 99.4136 100.86 100.86Z\" fill=\"#00AEEF\"/>\n",
       "    </g>\n",
       "    <defs>\n",
       "        <clipPath id=\"clip0_4338_178347\">\n",
       "            <rect width=\"566.93\" height=\"223.75\" fill=\"white\"/>\n",
       "        </clipPath>\n",
       "    </defs>\n",
       "  </svg>\n",
       "</div>\n",
       "\n",
       "        <table class=\"jp-RenderedHTMLCommon\" style=\"border-collapse: collapse;color: var(--jp-ui-font-color1);font-size: var(--jp-ui-font-size1);\">\n",
       "    <tr>\n",
       "        <td style=\"text-align: left\"><b>Python version:</b></td>\n",
       "        <td style=\"text-align: left\"><b>3.10.11</b></td>\n",
       "    </tr>\n",
       "    <tr>\n",
       "        <td style=\"text-align: left\"><b>Ray version:</b></td>\n",
       "        <td style=\"text-align: left\"><b>2.39.0</b></td>\n",
       "    </tr>\n",
       "    <tr>\n",
       "    <td style=\"text-align: left\"><b>Dashboard:</b></td>\n",
       "    <td style=\"text-align: left\"><b><a href=\"http://127.0.0.1:8265\" target=\"_blank\">http://127.0.0.1:8265</a></b></td>\n",
       "</tr>\n",
       "\n",
       "</table>\n",
       "\n",
       "    </div>\n",
       "</div>\n"
      ],
      "text/plain": [
       "RayContext(dashboard_url='127.0.0.1:8265', python_version='3.10.11', ray_version='2.39.0', ray_commit='5a6c33536df3f6ed5e987a169b82739bb7e3d80e')"
      ]
     },
     "execution_count": 12,
     "metadata": {},
     "output_type": "execute_result"
    }
   ],
   "source": [
    "import ray, time\n",
    "ray.init()"
   ]
  },
  {
   "cell_type": "code",
   "execution_count": 14,
   "id": "1aa5b19f",
   "metadata": {},
   "outputs": [
    {
     "data": {
      "text/plain": [
       "Dataset({\n",
       "    features: ['question', 'context', 'cid', 'qid'],\n",
       "    num_rows: 79456\n",
       "})"
      ]
     },
     "execution_count": 14,
     "metadata": {},
     "output_type": "execute_result"
    }
   ],
   "source": [
    "dataset = load_dataset(dataset_name, \"default\", split=\"train\")\n",
    "dataset"
   ]
  },
  {
   "cell_type": "code",
   "execution_count": null,
   "id": "97f6e3f3",
   "metadata": {},
   "outputs": [
    {
     "data": {
      "text/plain": [
       "Dataset({\n",
       "    features: ['question', 'context', 'cid', 'qid'],\n",
       "    num_rows: 800\n",
       "})"
      ]
     },
     "execution_count": 15,
     "metadata": {},
     "output_type": "execute_result"
    }
   ],
   "source": [
    "small_dataset = dataset.select(range(79456))\n",
    "small_dataset"
   ]
  },
  {
   "cell_type": "code",
   "execution_count": null,
   "id": "afa66224",
   "metadata": {},
   "outputs": [],
   "source": [
    "@ray.remote(num_cpus=1, num_gpus=0)\n",
    "def predict_by_chunk(i, chunk, vtstore_ref):\n",
    "    start_time = time.time()\n",
    "    predict_path = f\"Predicts/predict_{i}.txt\"\n",
    "    with open(predict_path, 'w') as p:\n",
    "        for row in tqdm(chunk, desc=f\"Processing split {chunk} {i}\"):\n",
    "            content = row['question']\n",
    "            qid = row['qid']\n",
    "\n",
    "            results = vtstore_ref.similarity_search(\n",
    "                content,\n",
    "                k = 10,\n",
    "            )\n",
    "            cids = [doc.metadata['cid'] for doc in results]  # Assuming 'qid' is what you meant by cid\n",
    "            more_cid = \"\"\n",
    "            for i in cids:\n",
    "                more_cid += f\" {i[1:-1]}\"\n",
    "            response = f\"{qid} {more_cid}\"\n",
    "\n",
    "            # response = similarity_search(content, faiss_path, qid)\n",
    "            p.write(response + '\\n')\n",
    "    return f\"processed {i} chunk: \" + \"{:.4f}\".format(time.time() - start_time)    "
   ]
  },
  {
   "cell_type": "code",
   "execution_count": 18,
   "id": "a2814928",
   "metadata": {},
   "outputs": [],
   "source": [
    "vtstore = FAISS.load_local(faiss_path, embeddings, allow_dangerous_deserialization=True)\n",
    "vtstore_ref = ray.put(vtstore)"
   ]
  },
  {
   "cell_type": "code",
   "execution_count": null,
   "id": "a38c2225",
   "metadata": {},
   "outputs": [
    {
     "name": "stderr",
     "output_type": "stream",
     "text": [
      "Processing split Dataset({=35384)\u001b[0m \n",
      "\u001b[36m(predict_by_chunk pid=35384)\u001b[0m     features: ['question', 'context', 'cid', 'qid'],\n",
      "\u001b[36m(predict_by_chunk pid=35384)\u001b[0m     num_rows: 100\n",
      "\u001b[36m(predict_by_chunk pid=35384)\u001b[0m }) 2:   0%|          | 0/100 [00:00<?, ?it/s]\n",
      "Batches:   0%|          | 0/1 [00:00<?, ?it/s]\u001b[A\n",
      "\u001b[36m(predict_by_chunk pid=35386)\u001b[0m \n",
      "\u001b[36m(predict_by_chunk pid=35382)\u001b[0m \n",
      "Batches: 100%|██████████| 1/1 [00:01<00:00,  1.94s/it]\u001b[A\n",
      "\u001b[36m(predict_by_chunk pid=35382)\u001b[0m }) 0:   1%|          | 1/100 [00:01<03:15,  1.97s/it]\n",
      "\u001b[36m(predict_by_chunk pid=35384)\u001b[0m \n",
      "\u001b[36m(predict_by_chunk pid=35381)\u001b[0m \n",
      "\u001b[36m(predict_by_chunk pid=35386)\u001b[0m \n",
      "Batches: 100%|██████████| 1/1 [00:00<00:00, 20.20it/s]\n",
      "\u001b[36m(predict_by_chunk pid=35382)\u001b[0m \n",
      "Batches: 100%|██████████| 1/1 [00:00<00:00, 22.06it/s]\n",
      "\u001b[36m(predict_by_chunk pid=35384)\u001b[0m \n",
      "\u001b[36m(predict_by_chunk pid=35381)\u001b[0m \n",
      "\u001b[36m(predict_by_chunk pid=35386)\u001b[0m \n",
      "\u001b[36m(predict_by_chunk pid=35382)\u001b[0m \n",
      "\u001b[36m(predict_by_chunk pid=35384)\u001b[0m \n",
      "\u001b[36m(predict_by_chunk pid=35381)\u001b[0m \n",
      "\u001b[36m(predict_by_chunk pid=35386)\u001b[0m \n",
      "\u001b[36m(predict_by_chunk pid=35386)\u001b[0m \n",
      "\u001b[36m(predict_by_chunk pid=35382)\u001b[0m \n",
      "\u001b[36m(predict_by_chunk pid=35384)\u001b[0m \n",
      "\u001b[36m(predict_by_chunk pid=35384)\u001b[0m \n",
      "\u001b[36m(predict_by_chunk pid=35381)\u001b[0m \n",
      "\u001b[36m(predict_by_chunk pid=35386)\u001b[0m \n",
      "\u001b[36m(predict_by_chunk pid=35382)\u001b[0m \n",
      "\u001b[36m(predict_by_chunk pid=35384)\u001b[0m \n",
      "\u001b[36m(predict_by_chunk pid=35381)\u001b[0m \n",
      "\u001b[36m(predict_by_chunk pid=35384)\u001b[0m \n",
      "\u001b[36m(predict_by_chunk pid=35386)\u001b[0m \n",
      "\u001b[36m(predict_by_chunk pid=35382)\u001b[0m \n",
      "\u001b[36m(predict_by_chunk pid=35381)\u001b[0m \n",
      "\u001b[36m(predict_by_chunk pid=35386)\u001b[0m \n",
      "\u001b[36m(predict_by_chunk pid=35386)\u001b[0m \n",
      "\u001b[36m(predict_by_chunk pid=35382)\u001b[0m \n",
      "\u001b[36m(predict_by_chunk pid=35384)\u001b[0m \n",
      "\u001b[36m(predict_by_chunk pid=35381)\u001b[0m \n",
      "\u001b[36m(predict_by_chunk pid=35382)\u001b[0m \n",
      "\u001b[36m(predict_by_chunk pid=35384)\u001b[0m \n",
      "\u001b[36m(predict_by_chunk pid=35381)\u001b[0m \n",
      "\u001b[36m(predict_by_chunk pid=35386)\u001b[0m \n",
      "\u001b[36m(predict_by_chunk pid=35386)\u001b[0m \n",
      "\u001b[36m(predict_by_chunk pid=35382)\u001b[0m \n",
      "\u001b[36m(predict_by_chunk pid=35384)\u001b[0m \n",
      "\u001b[36m(predict_by_chunk pid=35382)\u001b[0m \n",
      "\u001b[36m(predict_by_chunk pid=35384)\u001b[0m \n",
      "\u001b[36m(predict_by_chunk pid=35381)\u001b[0m \n",
      "\u001b[36m(predict_by_chunk pid=35386)\u001b[0m \n",
      "\u001b[36m(predict_by_chunk pid=35382)\u001b[0m \n",
      "\u001b[36m(predict_by_chunk pid=35384)\u001b[0m \n",
      "\u001b[36m(predict_by_chunk pid=35381)\u001b[0m \n",
      "\u001b[36m(predict_by_chunk pid=35386)\u001b[0m \n",
      "\u001b[36m(predict_by_chunk pid=35384)\u001b[0m \n",
      "\u001b[36m(predict_by_chunk pid=35381)\u001b[0m \n",
      "\u001b[36m(predict_by_chunk pid=35386)\u001b[0m \n",
      "\u001b[36m(predict_by_chunk pid=35382)\u001b[0m \n",
      "\u001b[36m(predict_by_chunk pid=35384)\u001b[0m \n",
      "\u001b[36m(predict_by_chunk pid=35381)\u001b[0m \n",
      "\u001b[36m(predict_by_chunk pid=35386)\u001b[0m \n",
      "\u001b[36m(predict_by_chunk pid=35382)\u001b[0m \n",
      "\u001b[36m(predict_by_chunk pid=35384)\u001b[0m \n",
      "\u001b[36m(predict_by_chunk pid=35381)\u001b[0m \n",
      "\u001b[36m(predict_by_chunk pid=35382)\u001b[0m \n",
      "\u001b[36m(predict_by_chunk pid=35382)\u001b[0m \n",
      "\u001b[36m(predict_by_chunk pid=35384)\u001b[0m \n",
      "\u001b[36m(predict_by_chunk pid=35381)\u001b[0m \n",
      "\u001b[36m(predict_by_chunk pid=35386)\u001b[0m \n",
      "\u001b[36m(predict_by_chunk pid=35386)\u001b[0m \n",
      "\u001b[36m(predict_by_chunk pid=35382)\u001b[0m \n",
      "\u001b[36m(predict_by_chunk pid=35381)\u001b[0m \n",
      "\u001b[36m(predict_by_chunk pid=35386)\u001b[0m \n",
      "\u001b[36m(predict_by_chunk pid=35386)\u001b[0m \n",
      "\u001b[36m(predict_by_chunk pid=35382)\u001b[0m \n",
      "\u001b[36m(predict_by_chunk pid=35384)\u001b[0m \n",
      "\u001b[36m(predict_by_chunk pid=35381)\u001b[0m \n",
      "\u001b[36m(predict_by_chunk pid=35386)\u001b[0m \n",
      "\u001b[36m(predict_by_chunk pid=35382)\u001b[0m \n",
      "\u001b[36m(predict_by_chunk pid=35384)\u001b[0m \n",
      "\u001b[36m(predict_by_chunk pid=35386)\u001b[0m \n",
      "\u001b[36m(predict_by_chunk pid=35384)\u001b[0m \n",
      "\u001b[36m(predict_by_chunk pid=35381)\u001b[0m \n",
      "\u001b[36m(predict_by_chunk pid=35386)\u001b[0m \n",
      "\u001b[36m(predict_by_chunk pid=35382)\u001b[0m \n",
      "\u001b[36m(predict_by_chunk pid=35384)\u001b[0m \n",
      "\u001b[36m(predict_by_chunk pid=35381)\u001b[0m \n",
      "\u001b[36m(predict_by_chunk pid=35382)\u001b[0m \n",
      "\u001b[36m(predict_by_chunk pid=35384)\u001b[0m \n",
      "\u001b[36m(predict_by_chunk pid=35381)\u001b[0m \n",
      "\u001b[36m(predict_by_chunk pid=35386)\u001b[0m \n",
      "\u001b[36m(predict_by_chunk pid=35382)\u001b[0m \n",
      "\u001b[36m(predict_by_chunk pid=35384)\u001b[0m \n",
      "\u001b[36m(predict_by_chunk pid=35386)\u001b[0m \n",
      "\u001b[36m(predict_by_chunk pid=35381)\u001b[0m \n",
      "\u001b[36m(predict_by_chunk pid=35386)\u001b[0m \n",
      "\u001b[36m(predict_by_chunk pid=35382)\u001b[0m \n",
      "\u001b[36m(predict_by_chunk pid=35384)\u001b[0m \n",
      "\u001b[36m(predict_by_chunk pid=35381)\u001b[0m \n",
      "\u001b[36m(predict_by_chunk pid=35382)\u001b[0m \n",
      "\u001b[36m(predict_by_chunk pid=35382)\u001b[0m \n",
      "\u001b[36m(predict_by_chunk pid=35384)\u001b[0m \n",
      "\u001b[36m(predict_by_chunk pid=35386)\u001b[0m \n",
      "\u001b[36m(predict_by_chunk pid=35384)\u001b[0m \n",
      "\u001b[36m(predict_by_chunk pid=35381)\u001b[0m \n",
      "\u001b[36m(predict_by_chunk pid=35386)\u001b[0m \n",
      "\u001b[36m(predict_by_chunk pid=35382)\u001b[0m \n",
      "\u001b[36m(predict_by_chunk pid=35384)\u001b[0m \n",
      "\u001b[36m(predict_by_chunk pid=35381)\u001b[0m \n",
      "\u001b[36m(predict_by_chunk pid=35386)\u001b[0m \n",
      "\u001b[36m(predict_by_chunk pid=35382)\u001b[0m \n",
      "Processing split Dataset({\u001b[32m [repeated 95x across cluster] (Ray deduplicates logs by default. Set RAY_DEDUP_LOGS=0 to disable log deduplication, or see https://docs.ray.io/en/master/ray-observability/user-guides/configure-logging.html#log-deduplication for more options.)\u001b[0m\n",
      "\u001b[36m(predict_by_chunk pid=35386)\u001b[0m     features: ['question', 'context', 'cid', 'qid'],\u001b[32m [repeated 95x across cluster]\u001b[0m\n",
      "\u001b[36m(predict_by_chunk pid=35386)\u001b[0m     num_rows: 100\u001b[32m [repeated 95x across cluster]\u001b[0m\n",
      "\u001b[36m(predict_by_chunk pid=35381)\u001b[0m }) 1:   0%|          | 0/100 [00:00<?, ?it/s]\u001b[32m [repeated 3x across cluster]\u001b[0m\n",
      "Batches:   0%|          | 0/1 [00:00<?, ?it/s]\u001b[A\u001b[32m [repeated 92x across cluster]\u001b[0m\n",
      "\u001b[36m(predict_by_chunk pid=35384)\u001b[0m \n",
      "\u001b[36m(predict_by_chunk pid=35381)\u001b[0m \n",
      "\u001b[36m(predict_by_chunk pid=35384)\u001b[0m \n",
      "\u001b[36m(predict_by_chunk pid=35384)\u001b[0m \n",
      "\u001b[36m(predict_by_chunk pid=35386)\u001b[0m \n",
      "\u001b[36m(predict_by_chunk pid=35382)\u001b[0m \n",
      "\u001b[36m(predict_by_chunk pid=35384)\u001b[0m \n",
      "\u001b[36m(predict_by_chunk pid=35381)\u001b[0m \n",
      "\u001b[36m(predict_by_chunk pid=35386)\u001b[0m \n",
      "\u001b[33m(raylet)\u001b[0m [2024-11-25 07:12:03,887 E 35134 35134] (raylet) node_manager.cc:3069: 4 Workers (tasks / actors) killed due to memory pressure (OOM), 0 Workers crashed due to other reasons at node (ID: 1b9cc878345b9e7ced80c406c3aa05d0a3019c228cf2ec334a98486f, IP: 10.0.0.4) over the last time period. To see more information about the Workers killed on this node, use `ray logs raylet.out -ip 10.0.0.4`\n",
      "\u001b[33m(raylet)\u001b[0m \n",
      "\u001b[33m(raylet)\u001b[0m Refer to the documentation on how to address the out of memory issue: https://docs.ray.io/en/latest/ray-core/scheduling/ray-oom-prevention.html. Consider provisioning more memory on this node or reducing task parallelism by requesting more CPUs per task. To adjust the kill threshold, set the environment variable `RAY_memory_usage_threshold` when starting Ray. To disable worker killing, set the environment variable `RAY_memory_monitor_refresh_ms` to zero.\n",
      "\u001b[36m(predict_by_chunk pid=35382)\u001b[0m \n",
      "\u001b[36m(predict_by_chunk pid=35384)\u001b[0m \n",
      "\u001b[36m(predict_by_chunk pid=35381)\u001b[0m \n",
      "\u001b[36m(predict_by_chunk pid=35386)\u001b[0m \n",
      "\u001b[36m(predict_by_chunk pid=35382)\u001b[0m \n",
      "\u001b[36m(predict_by_chunk pid=35384)\u001b[0m \n",
      "\u001b[36m(predict_by_chunk pid=35381)\u001b[0m \n",
      "\u001b[36m(predict_by_chunk pid=35386)\u001b[0m \n",
      "\u001b[36m(predict_by_chunk pid=35382)\u001b[0m \n",
      "\u001b[36m(predict_by_chunk pid=35386)\u001b[0m \n",
      "\u001b[36m(predict_by_chunk pid=35384)\u001b[0m \n",
      "\u001b[36m(predict_by_chunk pid=35381)\u001b[0m \n",
      "\u001b[36m(predict_by_chunk pid=35386)\u001b[0m \n",
      "\u001b[36m(predict_by_chunk pid=35382)\u001b[0m \n",
      "\u001b[36m(predict_by_chunk pid=35384)\u001b[0m \n",
      "\u001b[36m(predict_by_chunk pid=35381)\u001b[0m \n",
      "\u001b[36m(predict_by_chunk pid=35382)\u001b[0m \n",
      "\u001b[36m(predict_by_chunk pid=35384)\u001b[0m \n",
      "\u001b[36m(predict_by_chunk pid=35381)\u001b[0m \n",
      "\u001b[36m(predict_by_chunk pid=35386)\u001b[0m \n",
      "\u001b[36m(predict_by_chunk pid=35382)\u001b[0m \n",
      "\u001b[36m(predict_by_chunk pid=35384)\u001b[0m \n",
      "\u001b[36m(predict_by_chunk pid=35386)\u001b[0m \n",
      "\u001b[36m(predict_by_chunk pid=35382)\u001b[0m \n",
      "\u001b[36m(predict_by_chunk pid=35384)\u001b[0m \n",
      "\u001b[36m(predict_by_chunk pid=35381)\u001b[0m \n",
      "\u001b[36m(predict_by_chunk pid=35386)\u001b[0m \n",
      "\u001b[36m(predict_by_chunk pid=35382)\u001b[0m \n",
      "\u001b[36m(predict_by_chunk pid=35384)\u001b[0m \n",
      "\u001b[36m(predict_by_chunk pid=35381)\u001b[0m \n",
      "\u001b[36m(predict_by_chunk pid=35386)\u001b[0m \n",
      "\u001b[36m(predict_by_chunk pid=35381)\u001b[0m \n",
      "\u001b[36m(predict_by_chunk pid=35386)\u001b[0m \n",
      "\u001b[36m(predict_by_chunk pid=35382)\u001b[0m \n",
      "\u001b[36m(predict_by_chunk pid=35384)\u001b[0m \n",
      "\u001b[36m(predict_by_chunk pid=35386)\u001b[0m \n",
      "\u001b[36m(predict_by_chunk pid=35386)\u001b[0m \n",
      "\u001b[36m(predict_by_chunk pid=35382)\u001b[0m \n",
      "\u001b[36m(predict_by_chunk pid=35384)\u001b[0m \n",
      "\u001b[36m(predict_by_chunk pid=35381)\u001b[0m \n",
      "\u001b[36m(predict_by_chunk pid=35386)\u001b[0m \n",
      "\u001b[36m(predict_by_chunk pid=35382)\u001b[0m \n",
      "\u001b[36m(predict_by_chunk pid=35384)\u001b[0m \n",
      "\u001b[36m(predict_by_chunk pid=35381)\u001b[0m \n",
      "\u001b[36m(predict_by_chunk pid=35382)\u001b[0m \n",
      "\u001b[36m(predict_by_chunk pid=35386)\u001b[0m \n",
      "\u001b[36m(predict_by_chunk pid=35382)\u001b[0m \n",
      "\u001b[36m(predict_by_chunk pid=35382)\u001b[0m \n",
      "\u001b[36m(predict_by_chunk pid=35384)\u001b[0m \n",
      "\u001b[36m(predict_by_chunk pid=35381)\u001b[0m \n",
      "\u001b[36m(predict_by_chunk pid=35386)\u001b[0m \n",
      "\u001b[36m(predict_by_chunk pid=35384)\u001b[0m \n",
      "\u001b[36m(predict_by_chunk pid=35386)\u001b[0m \n",
      "\u001b[36m(predict_by_chunk pid=35381)\u001b[0m \n",
      "\u001b[36m(predict_by_chunk pid=35382)\u001b[0m \n",
      "\u001b[36m(predict_by_chunk pid=35384)\u001b[0m \n",
      "\u001b[36m(predict_by_chunk pid=35381)\u001b[0m \n",
      "\u001b[36m(predict_by_chunk pid=35386)\u001b[0m \n",
      "\u001b[36m(predict_by_chunk pid=35382)\u001b[0m \n",
      "Batches: 100%|██████████| 1/1 [00:01<00:00,  1.97s/it]\u001b[32m [repeated 3x across cluster]\u001b[0m\n",
      "\u001b[36m(predict_by_chunk pid=35382)\u001b[0m }) 0:  77%|███████▋  | 77/100 [00:06<00:01, 16.85it/s]\u001b[32m [repeated 152x across cluster]\u001b[0m\n",
      "\u001b[36m(predict_by_chunk pid=35384)\u001b[0m \n",
      "\u001b[36m(predict_by_chunk pid=35386)\u001b[0m \n",
      "\u001b[36m(predict_by_chunk pid=35382)\u001b[0m \n",
      "Batches: 100%|██████████| 1/1 [00:00<00:00, 20.19it/s]\u001b[32m [repeated 145x across cluster]\u001b[0m\n",
      "Batches: 100%|██████████| 1/1 [00:00<00:00, 24.05it/s]\u001b[32m [repeated 163x across cluster]\u001b[0m\n",
      "\u001b[36m(predict_by_chunk pid=35381)\u001b[0m \n",
      "\u001b[36m(predict_by_chunk pid=35386)\u001b[0m \n",
      "\u001b[36m(predict_by_chunk pid=35382)\u001b[0m \n",
      "\u001b[36m(predict_by_chunk pid=35384)\u001b[0m \n",
      "\u001b[36m(predict_by_chunk pid=35381)\u001b[0m \n",
      "\u001b[36m(predict_by_chunk pid=35382)\u001b[0m \n",
      "\u001b[36m(predict_by_chunk pid=35384)\u001b[0m \n",
      "\u001b[36m(predict_by_chunk pid=35381)\u001b[0m \n",
      "\u001b[36m(predict_by_chunk pid=35386)\u001b[0m \n",
      "\u001b[36m(predict_by_chunk pid=35382)\u001b[0m \n",
      "\u001b[36m(predict_by_chunk pid=35381)\u001b[0m \n",
      "\u001b[36m(predict_by_chunk pid=35386)\u001b[0m \n",
      "\u001b[36m(predict_by_chunk pid=35382)\u001b[0m \n",
      "\u001b[36m(predict_by_chunk pid=35384)\u001b[0m \n",
      "\u001b[36m(predict_by_chunk pid=35386)\u001b[0m \n",
      "\u001b[36m(predict_by_chunk pid=35384)\u001b[0m \n",
      "\u001b[36m(predict_by_chunk pid=35381)\u001b[0m \n",
      "\u001b[36m(predict_by_chunk pid=35386)\u001b[0m \n",
      "\u001b[36m(predict_by_chunk pid=35382)\u001b[0m \n",
      "\u001b[36m(predict_by_chunk pid=35384)\u001b[0m \n",
      "\u001b[36m(predict_by_chunk pid=35384)\u001b[0m }) 2:  93%|█████████▎| 93/100 [00:07<00:00, 15.34it/s]\n",
      "\u001b[36m(predict_by_chunk pid=35381)\u001b[0m \n",
      "\u001b[36m(predict_by_chunk pid=35384)\u001b[0m \n",
      "\u001b[36m(predict_by_chunk pid=35386)\u001b[0m \n",
      "\u001b[36m(predict_by_chunk pid=35382)\u001b[0m \n",
      "\u001b[36m(predict_by_chunk pid=35384)\u001b[0m \n",
      "\u001b[36m(predict_by_chunk pid=35381)\u001b[0m \n",
      "\u001b[36m(predict_by_chunk pid=35382)\u001b[0m \n",
      "\u001b[36m(predict_by_chunk pid=35384)\u001b[0m \n",
      "\u001b[36m(predict_by_chunk pid=35381)\u001b[0m \n",
      "\u001b[36m(predict_by_chunk pid=35386)\u001b[0m \n",
      "\u001b[36m(predict_by_chunk pid=35382)\u001b[0m \n",
      "\u001b[36m(predict_by_chunk pid=35381)\u001b[0m \n",
      "\u001b[36m(predict_by_chunk pid=35386)\u001b[0m \n",
      "\u001b[36m(predict_by_chunk pid=35382)\u001b[0m \n",
      "\u001b[36m(predict_by_chunk pid=35384)\u001b[0m \n",
      "\u001b[36m(predict_by_chunk pid=35381)\u001b[0m \n",
      "\u001b[36m(predict_by_chunk pid=35381)\u001b[0m \n",
      "\u001b[36m(predict_by_chunk pid=35386)\u001b[0m \n",
      "\u001b[36m(predict_by_chunk pid=35381)\u001b[0m \n",
      "\u001b[36m(predict_by_chunk pid=35386)\u001b[0m \n",
      "\u001b[36m(predict_by_chunk pid=35381)\u001b[0m \n",
      "\u001b[36m(predict_by_chunk pid=35381)\u001b[0m \n",
      "Processing split Dataset({\u001b[32m [repeated 112x across cluster]\u001b[0m\n",
      "\u001b[36m(predict_by_chunk pid=36663)\u001b[0m     features: ['question', 'context', 'cid', 'qid'],\u001b[32m [repeated 112x across cluster]\u001b[0m\n",
      "\u001b[36m(predict_by_chunk pid=36663)\u001b[0m     num_rows: 100\u001b[32m [repeated 112x across cluster]\u001b[0m\n",
      "\u001b[36m(predict_by_chunk pid=36663)\u001b[0m }) 7:   0%|          | 0/100 [00:00<?, ?it/s]\n",
      "Batches:   0%|          | 0/1 [00:00<?, ?it/s]\u001b[A\u001b[32m [repeated 96x across cluster]\u001b[0m\n",
      "\u001b[36m(predict_by_chunk pid=35381)\u001b[0m }) 1:  91%|█████████ | 91/100 [00:08<00:00, 15.42it/s]\u001b[32m [repeated 31x across cluster]\u001b[0m\n",
      "Batches: 100%|██████████| 1/1 [00:00<00:00, 27.41it/s]\u001b[32m [repeated 38x across cluster]\u001b[0m\n",
      "Batches: 100%|██████████| 1/1 [00:00<00:00, 38.28it/s]\u001b[32m [repeated 48x across cluster]\u001b[0m\n",
      "\u001b[36m(predict_by_chunk pid=35386)\u001b[0m }) 3: 100%|██████████| 100/100 [00:08<00:00, 11.82it/s]\u001b[32m [repeated 18x across cluster]\u001b[0m\n",
      "\u001b[36m(predict_by_chunk pid=36665)\u001b[0m }) 6:   0%|          | 0/100 [00:00<?, ?it/s]\n",
      "\u001b[36m(predict_by_chunk pid=36663)\u001b[0m \n",
      "Batches: 100%|██████████| 1/1 [00:00<00:00,  1.59it/s]\u001b[A\n",
      "\u001b[36m(predict_by_chunk pid=36665)\u001b[0m \n",
      "\u001b[36m(predict_by_chunk pid=36663)\u001b[0m \n",
      "\u001b[36m(predict_by_chunk pid=36663)\u001b[0m \n",
      "\u001b[36m(predict_by_chunk pid=36665)\u001b[0m \n",
      "\u001b[36m(predict_by_chunk pid=36665)\u001b[0m \n",
      "\u001b[36m(predict_by_chunk pid=36663)\u001b[0m \n",
      "\u001b[36m(predict_by_chunk pid=36663)\u001b[0m \n",
      "\u001b[36m(predict_by_chunk pid=36663)\u001b[0m \n",
      "\u001b[36m(predict_by_chunk pid=36665)\u001b[0m \n",
      "\u001b[36m(predict_by_chunk pid=36665)\u001b[0m \n",
      "\u001b[36m(predict_by_chunk pid=36663)\u001b[0m \n",
      "\u001b[36m(predict_by_chunk pid=36665)\u001b[0m \n",
      "\u001b[36m(predict_by_chunk pid=36663)\u001b[0m \n",
      "\u001b[36m(predict_by_chunk pid=36665)\u001b[0m \n",
      "\u001b[36m(predict_by_chunk pid=36663)\u001b[0m \n",
      "\u001b[36m(predict_by_chunk pid=36665)\u001b[0m \n",
      "\u001b[36m(predict_by_chunk pid=36663)\u001b[0m \n",
      "\u001b[36m(predict_by_chunk pid=36663)\u001b[0m \n",
      "\u001b[36m(predict_by_chunk pid=36663)\u001b[0m \n",
      "\u001b[36m(predict_by_chunk pid=36665)\u001b[0m \n",
      "\u001b[36m(predict_by_chunk pid=36663)\u001b[0m \n",
      "\u001b[36m(predict_by_chunk pid=36665)\u001b[0m \n",
      "\u001b[36m(predict_by_chunk pid=36663)\u001b[0m \n",
      "\u001b[36m(predict_by_chunk pid=36665)\u001b[0m \n",
      "\u001b[36m(predict_by_chunk pid=36663)\u001b[0m \n",
      "\u001b[36m(predict_by_chunk pid=36663)\u001b[0m \n",
      "\u001b[36m(predict_by_chunk pid=36665)\u001b[0m \n",
      "\u001b[36m(predict_by_chunk pid=36665)\u001b[0m \n",
      "\u001b[36m(predict_by_chunk pid=36665)\u001b[0m \n",
      "\u001b[36m(predict_by_chunk pid=36663)\u001b[0m \n",
      "\u001b[36m(predict_by_chunk pid=36663)\u001b[0m \n",
      "\u001b[36m(predict_by_chunk pid=36665)\u001b[0m \n",
      "\u001b[36m(predict_by_chunk pid=36665)\u001b[0m \n",
      "\u001b[36m(predict_by_chunk pid=36663)\u001b[0m \n",
      "\u001b[36m(predict_by_chunk pid=36665)\u001b[0m \n",
      "\u001b[36m(predict_by_chunk pid=36663)\u001b[0m \n",
      "\u001b[36m(predict_by_chunk pid=36665)\u001b[0m \n",
      "\u001b[36m(predict_by_chunk pid=36665)\u001b[0m \n",
      "\u001b[36m(predict_by_chunk pid=36663)\u001b[0m \n",
      "\u001b[36m(predict_by_chunk pid=36663)\u001b[0m \n",
      "\u001b[36m(predict_by_chunk pid=36665)\u001b[0m \n",
      "\u001b[36m(predict_by_chunk pid=36663)\u001b[0m \n",
      "\u001b[36m(predict_by_chunk pid=36663)\u001b[0m \n",
      "\u001b[36m(predict_by_chunk pid=36665)\u001b[0m \n",
      "\u001b[36m(predict_by_chunk pid=36665)\u001b[0m \n",
      "\u001b[36m(predict_by_chunk pid=36663)\u001b[0m \n",
      "\u001b[36m(predict_by_chunk pid=36665)\u001b[0m \n",
      "\u001b[36m(predict_by_chunk pid=36665)\u001b[0m \n",
      "\u001b[36m(predict_by_chunk pid=36665)\u001b[0m \n",
      "\u001b[36m(predict_by_chunk pid=36663)\u001b[0m \n",
      "\u001b[36m(predict_by_chunk pid=36663)\u001b[0m \n",
      "\u001b[36m(predict_by_chunk pid=36665)\u001b[0m \n",
      "\u001b[36m(predict_by_chunk pid=36663)\u001b[0m \n",
      "\u001b[36m(predict_by_chunk pid=36665)\u001b[0m \n",
      "\u001b[36m(predict_by_chunk pid=36665)\u001b[0m \n",
      "\u001b[36m(predict_by_chunk pid=36663)\u001b[0m \n",
      "\u001b[36m(predict_by_chunk pid=36663)\u001b[0m \n",
      "\u001b[36m(predict_by_chunk pid=36665)\u001b[0m \n",
      "\u001b[36m(predict_by_chunk pid=36663)\u001b[0m \n",
      "\u001b[36m(predict_by_chunk pid=36663)\u001b[0m \n",
      "\u001b[36m(predict_by_chunk pid=36665)\u001b[0m \n",
      "\u001b[36m(predict_by_chunk pid=36665)\u001b[0m \n",
      "\u001b[36m(predict_by_chunk pid=35381)\u001b[0m \n",
      "\u001b[36m(predict_by_chunk pid=36665)\u001b[0m \n",
      "\u001b[36m(predict_by_chunk pid=35381)\u001b[0m \n",
      "\u001b[36m(predict_by_chunk pid=35381)\u001b[0m \n",
      "\u001b[36m(predict_by_chunk pid=36663)\u001b[0m \n",
      "\u001b[36m(predict_by_chunk pid=36665)\u001b[0m \n",
      "\u001b[36m(predict_by_chunk pid=36665)\u001b[0m \n",
      "\u001b[36m(predict_by_chunk pid=35381)\u001b[0m \n",
      "\u001b[36m(predict_by_chunk pid=36663)\u001b[0m \n",
      "\u001b[36m(predict_by_chunk pid=36665)\u001b[0m \n",
      "\u001b[36m(predict_by_chunk pid=35381)\u001b[0m \n",
      "\u001b[36m(predict_by_chunk pid=36663)\u001b[0m \n",
      "\u001b[36m(predict_by_chunk pid=36663)\u001b[0m \n",
      "\u001b[36m(predict_by_chunk pid=36665)\u001b[0m \n",
      "\u001b[36m(predict_by_chunk pid=36665)\u001b[0m \n",
      "\u001b[36m(predict_by_chunk pid=36663)\u001b[0m \n",
      "\u001b[36m(predict_by_chunk pid=35381)\u001b[0m \n",
      "\u001b[36m(predict_by_chunk pid=35381)\u001b[0m \n",
      "\u001b[36m(predict_by_chunk pid=36663)\u001b[0m \n",
      "\u001b[36m(predict_by_chunk pid=36663)\u001b[0m \n",
      "\u001b[36m(predict_by_chunk pid=36665)\u001b[0m \n",
      "\u001b[36m(predict_by_chunk pid=35381)\u001b[0m \n",
      "\u001b[36m(predict_by_chunk pid=35381)\u001b[0m \n",
      "\u001b[36m(predict_by_chunk pid=36663)\u001b[0m \n",
      "\u001b[36m(predict_by_chunk pid=36665)\u001b[0m \n",
      "\u001b[36m(predict_by_chunk pid=36665)\u001b[0m \n",
      "\u001b[36m(predict_by_chunk pid=35381)\u001b[0m \n",
      "\u001b[36m(predict_by_chunk pid=35381)\u001b[0m \n",
      "\u001b[36m(predict_by_chunk pid=36663)\u001b[0m \n",
      "\u001b[36m(predict_by_chunk pid=36665)\u001b[0m \n",
      "\u001b[36m(predict_by_chunk pid=36665)\u001b[0m \n",
      "\u001b[36m(predict_by_chunk pid=35381)\u001b[0m \n",
      "\u001b[36m(predict_by_chunk pid=36663)\u001b[0m \n",
      "\u001b[36m(predict_by_chunk pid=36663)\u001b[0m \n",
      "\u001b[36m(predict_by_chunk pid=36665)\u001b[0m \n",
      "\u001b[36m(predict_by_chunk pid=36663)\u001b[0m \n",
      "\u001b[36m(predict_by_chunk pid=35381)\u001b[0m \n",
      "\u001b[36m(predict_by_chunk pid=35381)\u001b[0m \n",
      "\u001b[36m(predict_by_chunk pid=36663)\u001b[0m \n",
      "\u001b[36m(predict_by_chunk pid=36663)\u001b[0m \n",
      "\u001b[36m(predict_by_chunk pid=36665)\u001b[0m \n",
      "\u001b[36m(predict_by_chunk pid=36665)\u001b[0m \n",
      "\u001b[36m(predict_by_chunk pid=35381)\u001b[0m \n",
      "\u001b[36m(predict_by_chunk pid=35381)\u001b[0m \n",
      "\u001b[36m(predict_by_chunk pid=36663)\u001b[0m \n",
      "\u001b[36m(predict_by_chunk pid=36665)\u001b[0m \n",
      "\u001b[36m(predict_by_chunk pid=35381)\u001b[0m \n",
      "\u001b[36m(predict_by_chunk pid=35381)\u001b[0m \n",
      "\u001b[36m(predict_by_chunk pid=36663)\u001b[0m \n",
      "\u001b[36m(predict_by_chunk pid=36665)\u001b[0m \n",
      "\u001b[36m(predict_by_chunk pid=36665)\u001b[0m \n",
      "\u001b[36m(predict_by_chunk pid=35381)\u001b[0m \n",
      "\u001b[36m(predict_by_chunk pid=36663)\u001b[0m \n",
      "\u001b[36m(predict_by_chunk pid=36663)\u001b[0m \n",
      "\u001b[36m(predict_by_chunk pid=36665)\u001b[0m \n",
      "\u001b[36m(predict_by_chunk pid=36665)\u001b[0m \n",
      "\u001b[36m(predict_by_chunk pid=35381)\u001b[0m \n",
      "\u001b[36m(predict_by_chunk pid=35381)\u001b[0m \n",
      "\u001b[36m(predict_by_chunk pid=36663)\u001b[0m \n",
      "\u001b[36m(predict_by_chunk pid=36663)\u001b[0m \n",
      "\u001b[36m(predict_by_chunk pid=36665)\u001b[0m \n",
      "\u001b[36m(predict_by_chunk pid=35381)\u001b[0m \n",
      "\u001b[36m(predict_by_chunk pid=36663)\u001b[0m \n",
      "\u001b[36m(predict_by_chunk pid=36665)\u001b[0m \n",
      "\u001b[36m(predict_by_chunk pid=36665)\u001b[0m \n",
      "\u001b[36m(predict_by_chunk pid=35381)\u001b[0m \n",
      "\u001b[36m(predict_by_chunk pid=35381)\u001b[0m \n",
      "\u001b[36m(predict_by_chunk pid=36663)\u001b[0m \n",
      "\u001b[36m(predict_by_chunk pid=36663)\u001b[0m \n",
      "\u001b[36m(predict_by_chunk pid=36665)\u001b[0m \n",
      "\u001b[36m(predict_by_chunk pid=35381)\u001b[0m \n",
      "\u001b[36m(predict_by_chunk pid=35381)\u001b[0m \n",
      "\u001b[36m(predict_by_chunk pid=36663)\u001b[0m \n",
      "\u001b[36m(predict_by_chunk pid=36665)\u001b[0m \n",
      "\u001b[36m(predict_by_chunk pid=36665)\u001b[0m \n",
      "\u001b[36m(predict_by_chunk pid=35381)\u001b[0m \n",
      "\u001b[36m(predict_by_chunk pid=36663)\u001b[0m \n",
      "\u001b[36m(predict_by_chunk pid=36663)\u001b[0m \n",
      "\u001b[36m(predict_by_chunk pid=36665)\u001b[0m \n",
      "\u001b[36m(predict_by_chunk pid=36665)\u001b[0m \n",
      "\u001b[36m(predict_by_chunk pid=35381)\u001b[0m \n",
      "\u001b[36m(predict_by_chunk pid=35381)\u001b[0m \n",
      "\u001b[36m(predict_by_chunk pid=36663)\u001b[0m \n",
      "\u001b[36m(predict_by_chunk pid=36665)\u001b[0m \n",
      "\u001b[36m(predict_by_chunk pid=36663)\u001b[0m \n",
      "\u001b[36m(predict_by_chunk pid=35381)\u001b[0m \n",
      "\u001b[36m(predict_by_chunk pid=36663)\u001b[0m \n",
      "\u001b[36m(predict_by_chunk pid=36665)\u001b[0m \n",
      "\u001b[36m(predict_by_chunk pid=36665)\u001b[0m \n",
      "\u001b[36m(predict_by_chunk pid=35381)\u001b[0m \n",
      "\u001b[36m(predict_by_chunk pid=35381)\u001b[0m \n",
      "\u001b[36m(predict_by_chunk pid=36663)\u001b[0m \n",
      "\u001b[36m(predict_by_chunk pid=36665)\u001b[0m \n",
      "\u001b[36m(predict_by_chunk pid=35381)\u001b[0m \n",
      "\u001b[36m(predict_by_chunk pid=35381)\u001b[0m \n",
      "\u001b[36m(predict_by_chunk pid=35381)\u001b[0m \n",
      "\u001b[36m(predict_by_chunk pid=36663)\u001b[0m \n",
      "\u001b[36m(predict_by_chunk pid=36663)\u001b[0m \n",
      "\u001b[36m(predict_by_chunk pid=36665)\u001b[0m \n",
      "\u001b[36m(predict_by_chunk pid=36665)\u001b[0m \n",
      "\u001b[36m(predict_by_chunk pid=35381)\u001b[0m \n",
      "\u001b[36m(predict_by_chunk pid=36663)\u001b[0m \n",
      "\u001b[36m(predict_by_chunk pid=36663)\u001b[0m \n",
      "\u001b[36m(predict_by_chunk pid=36665)\u001b[0m \n",
      "\u001b[36m(predict_by_chunk pid=36665)\u001b[0m \n",
      "\u001b[36m(predict_by_chunk pid=36665)\u001b[0m \n",
      "\u001b[36m(predict_by_chunk pid=35381)\u001b[0m \n",
      "Processing split Dataset({\u001b[32m [repeated 84x across cluster]\u001b[0m\n",
      "\u001b[36m(predict_by_chunk pid=35381)\u001b[0m     features: ['question', 'context', 'cid', 'qid'],\u001b[32m [repeated 84x across cluster]\u001b[0m\n",
      "\u001b[36m(predict_by_chunk pid=35381)\u001b[0m     num_rows: 100\u001b[32m [repeated 84x across cluster]\u001b[0m\n",
      "Batches:   0%|          | 0/1 [00:00<?, ?it/s]\u001b[A\u001b[32m [repeated 86x across cluster]\u001b[0m\n",
      "\u001b[36m(predict_by_chunk pid=35381)\u001b[0m }) 4:  51%|█████     | 51/100 [00:02<00:02, 22.80it/s]\u001b[32m [repeated 81x across cluster]\u001b[0m\n",
      "Batches: 100%|██████████| 1/1 [00:00<00:00, 31.63it/s]\u001b[32m [repeated 83x across cluster]\u001b[0m\n",
      "Batches: 100%|██████████| 1/1 [00:00<00:00, 32.14it/s]\u001b[32m [repeated 155x across cluster]\u001b[0m\n",
      "\u001b[36m(predict_by_chunk pid=36665)\u001b[0m }) 6:  93%|█████████▎| 93/100 [00:04<00:00, 22.83it/s]\n",
      "\u001b[36m(predict_by_chunk pid=35381)\u001b[0m }) 4:   0%|          | 0/100 [00:00<?, ?it/s]\n",
      "\u001b[36m(predict_by_chunk pid=36663)\u001b[0m }) 7:  94%|█████████▍| 94/100 [00:05<00:00, 22.23it/s]\n",
      "\u001b[36m(predict_by_chunk pid=36663)\u001b[0m \n",
      "\u001b[36m(predict_by_chunk pid=36665)\u001b[0m \n",
      "\u001b[36m(predict_by_chunk pid=35381)\u001b[0m \n",
      "\u001b[36m(predict_by_chunk pid=35381)\u001b[0m \n",
      "\u001b[36m(predict_by_chunk pid=36663)\u001b[0m \n",
      "\u001b[36m(predict_by_chunk pid=36663)\u001b[0m \n",
      "\u001b[36m(predict_by_chunk pid=36665)\u001b[0m \n",
      "\u001b[36m(predict_by_chunk pid=35381)\u001b[0m \n",
      "\u001b[36m(predict_by_chunk pid=35381)\u001b[0m \n",
      "\u001b[36m(predict_by_chunk pid=36663)\u001b[0m \n",
      "Processing split Dataset({=36663)\u001b[0m }) 7: 100%|██████████| 100/100 [00:05<00:00, 22.67it/s]\n",
      "\u001b[36m(predict_by_chunk pid=35381)\u001b[0m \n",
      "\u001b[36m(predict_by_chunk pid=35381)\u001b[0m \n",
      "\u001b[36m(predict_by_chunk pid=35381)\u001b[0m \n",
      "\u001b[36m(predict_by_chunk pid=35381)\u001b[0m \n",
      "\u001b[36m(predict_by_chunk pid=35381)\u001b[0m \n",
      "\u001b[36m(predict_by_chunk pid=35381)\u001b[0m \n",
      "Batches: 100%|██████████| 1/1 [00:00<00:00,  1.70it/s]\u001b[A\n",
      "\u001b[36m(predict_by_chunk pid=35381)\u001b[0m \n",
      "\u001b[36m(predict_by_chunk pid=35381)\u001b[0m \n",
      "\u001b[36m(predict_by_chunk pid=35381)\u001b[0m \n",
      "\u001b[36m(predict_by_chunk pid=35381)\u001b[0m \n",
      "\u001b[36m(predict_by_chunk pid=35381)\u001b[0m \n",
      "\u001b[36m(predict_by_chunk pid=35381)\u001b[0m \n",
      "\u001b[36m(predict_by_chunk pid=35381)\u001b[0m \n",
      "\u001b[36m(predict_by_chunk pid=35381)\u001b[0m \n",
      "\u001b[36m(predict_by_chunk pid=35381)\u001b[0m \n",
      "\u001b[36m(predict_by_chunk pid=35381)\u001b[0m \n",
      "\u001b[36m(predict_by_chunk pid=35381)\u001b[0m \n",
      "\u001b[36m(predict_by_chunk pid=35381)\u001b[0m \n",
      "\u001b[36m(predict_by_chunk pid=35381)\u001b[0m \n",
      "\u001b[36m(predict_by_chunk pid=35381)\u001b[0m \n",
      "\u001b[36m(predict_by_chunk pid=35381)\u001b[0m \n",
      "\u001b[36m(predict_by_chunk pid=35381)\u001b[0m \n",
      "\u001b[36m(predict_by_chunk pid=35381)\u001b[0m \n",
      "\u001b[36m(predict_by_chunk pid=35381)\u001b[0m \n",
      "\u001b[36m(predict_by_chunk pid=35381)\u001b[0m \n",
      "\u001b[36m(predict_by_chunk pid=35381)\u001b[0m \n",
      "\u001b[36m(predict_by_chunk pid=35381)\u001b[0m \n",
      "\u001b[36m(predict_by_chunk pid=35381)\u001b[0m \n",
      "\u001b[36m(predict_by_chunk pid=36663)\u001b[0m }) 5:   0%|          | 0/100 [00:00<?, ?it/s]\n",
      "\u001b[36m(predict_by_chunk pid=36663)\u001b[0m \n",
      "\u001b[36m(predict_by_chunk pid=36663)\u001b[0m \n",
      "\u001b[36m(predict_by_chunk pid=36663)\u001b[0m \n",
      "\u001b[36m(predict_by_chunk pid=36663)\u001b[0m \n",
      "\u001b[36m(predict_by_chunk pid=36663)\u001b[0m \n",
      "\u001b[36m(predict_by_chunk pid=36663)\u001b[0m \n",
      "\u001b[36m(predict_by_chunk pid=36663)\u001b[0m \n",
      "\u001b[36m(predict_by_chunk pid=36663)\u001b[0m \n",
      "\u001b[36m(predict_by_chunk pid=36663)\u001b[0m \n",
      "\u001b[36m(predict_by_chunk pid=36663)\u001b[0m \n",
      "\u001b[36m(predict_by_chunk pid=36663)\u001b[0m \n",
      "\u001b[36m(predict_by_chunk pid=36663)\u001b[0m \n",
      "\u001b[36m(predict_by_chunk pid=36663)\u001b[0m \n",
      "\u001b[36m(predict_by_chunk pid=36663)\u001b[0m \n",
      "\u001b[36m(predict_by_chunk pid=36663)\u001b[0m \n",
      "\u001b[36m(predict_by_chunk pid=36663)\u001b[0m \n",
      "\u001b[36m(predict_by_chunk pid=36663)\u001b[0m \n",
      "\u001b[36m(predict_by_chunk pid=36663)\u001b[0m \n",
      "\u001b[36m(predict_by_chunk pid=36663)\u001b[0m \n",
      "\u001b[36m(predict_by_chunk pid=36663)\u001b[0m \n",
      "\u001b[36m(predict_by_chunk pid=36663)\u001b[0m \n",
      "\u001b[36m(predict_by_chunk pid=36663)\u001b[0m \n",
      "\u001b[36m(predict_by_chunk pid=36663)\u001b[0m \n",
      "\u001b[36m(predict_by_chunk pid=36663)\u001b[0m \n",
      "\u001b[36m(predict_by_chunk pid=36663)\u001b[0m \n",
      "\u001b[36m(predict_by_chunk pid=36663)\u001b[0m \n",
      "Processing split Dataset({\u001b[32m [repeated 37x across cluster]\u001b[0m\n",
      "\u001b[36m(predict_by_chunk pid=36663)\u001b[0m     features: ['question', 'context', 'cid', 'qid'],\u001b[32m [repeated 38x across cluster]\u001b[0m\n",
      "\u001b[36m(predict_by_chunk pid=36663)\u001b[0m     num_rows: 100\u001b[32m [repeated 38x across cluster]\u001b[0m\n",
      "Batches:   0%|          | 0/1 [00:00<?, ?it/s]\u001b[A\u001b[32m [repeated 30x across cluster]\u001b[0m\n",
      "\u001b[36m(predict_by_chunk pid=36663)\u001b[0m }) 5:  39%|███▉      | 39/100 [00:01<00:02, 23.13it/s]\u001b[32m [repeated 26x across cluster]\u001b[0m\n",
      "Batches: 100%|██████████| 1/1 [00:00<00:00, 34.40it/s]\u001b[32m [repeated 31x across cluster]\u001b[0m\n",
      "Batches: 100%|██████████| 1/1 [00:00<00:00, 34.94it/s]\u001b[32m [repeated 68x across cluster]\u001b[0m\n",
      "\u001b[36m(predict_by_chunk pid=35381)\u001b[0m }) 4: 100%|██████████| 100/100 [00:04<00:00, 22.27it/s]\u001b[32m [repeated 9x across cluster]\u001b[0m\n",
      "\u001b[36m(predict_by_chunk pid=36663)\u001b[0m \n",
      "\u001b[36m(predict_by_chunk pid=36663)\u001b[0m \n",
      "\u001b[36m(predict_by_chunk pid=36663)\u001b[0m \n",
      "\u001b[36m(predict_by_chunk pid=36663)\u001b[0m \n",
      "\u001b[36m(predict_by_chunk pid=36663)\u001b[0m \n",
      "\u001b[36m(predict_by_chunk pid=36663)\u001b[0m \n",
      "\u001b[36m(predict_by_chunk pid=36663)\u001b[0m \n",
      "\u001b[36m(predict_by_chunk pid=36663)\u001b[0m \n",
      "\u001b[36m(predict_by_chunk pid=36663)\u001b[0m \n",
      "\u001b[36m(predict_by_chunk pid=36663)\u001b[0m \n",
      "\u001b[36m(predict_by_chunk pid=36663)\u001b[0m \n",
      "\u001b[36m(predict_by_chunk pid=36663)\u001b[0m \n",
      "\u001b[36m(predict_by_chunk pid=36663)\u001b[0m \n",
      "\u001b[36m(predict_by_chunk pid=36663)\u001b[0m \n",
      "\u001b[36m(predict_by_chunk pid=36663)\u001b[0m \n",
      "\u001b[36m(predict_by_chunk pid=36663)\u001b[0m \n",
      "\u001b[36m(predict_by_chunk pid=36663)\u001b[0m \n",
      "\u001b[36m(predict_by_chunk pid=36663)\u001b[0m \n",
      "\u001b[36m(predict_by_chunk pid=36663)\u001b[0m \n",
      "\u001b[36m(predict_by_chunk pid=36663)\u001b[0m \n",
      "\u001b[36m(predict_by_chunk pid=36663)\u001b[0m \n",
      "\u001b[36m(predict_by_chunk pid=36663)\u001b[0m \n",
      "\u001b[36m(predict_by_chunk pid=36663)\u001b[0m \n",
      "\u001b[36m(predict_by_chunk pid=36663)\u001b[0m \n",
      "\u001b[36m(predict_by_chunk pid=36663)\u001b[0m \n",
      "\u001b[36m(predict_by_chunk pid=36663)\u001b[0m \n",
      "\u001b[36m(predict_by_chunk pid=36663)\u001b[0m \n",
      "\u001b[36m(predict_by_chunk pid=36663)\u001b[0m \n",
      "\u001b[36m(predict_by_chunk pid=36663)\u001b[0m \n",
      "\u001b[36m(predict_by_chunk pid=36663)\u001b[0m \n",
      "\u001b[36m(predict_by_chunk pid=36663)\u001b[0m \n",
      "\u001b[36m(predict_by_chunk pid=36663)\u001b[0m \n",
      "\u001b[36m(predict_by_chunk pid=36663)\u001b[0m \n",
      "\u001b[36m(predict_by_chunk pid=36663)\u001b[0m \n",
      "\u001b[36m(predict_by_chunk pid=36663)\u001b[0m \n",
      "\u001b[36m(predict_by_chunk pid=36663)\u001b[0m \n",
      "\u001b[36m(predict_by_chunk pid=36663)\u001b[0m \n",
      "\u001b[36m(predict_by_chunk pid=36663)\u001b[0m \n",
      "\u001b[36m(predict_by_chunk pid=36663)\u001b[0m \n",
      "\u001b[36m(predict_by_chunk pid=36663)\u001b[0m \n",
      "\u001b[33m(raylet)\u001b[0m [2024-11-25 07:13:03,889 E 35134 35134] (raylet) node_manager.cc:3069: 3 Workers (tasks / actors) killed due to memory pressure (OOM), 0 Workers crashed due to other reasons at node (ID: 1b9cc878345b9e7ced80c406c3aa05d0a3019c228cf2ec334a98486f, IP: 10.0.0.4) over the last time period. To see more information about the Workers killed on this node, use `ray logs raylet.out -ip 10.0.0.4`\n",
      "\u001b[33m(raylet)\u001b[0m \n",
      "\u001b[33m(raylet)\u001b[0m Refer to the documentation on how to address the out of memory issue: https://docs.ray.io/en/latest/ray-core/scheduling/ray-oom-prevention.html. Consider provisioning more memory on this node or reducing task parallelism by requesting more CPUs per task. To adjust the kill threshold, set the environment variable `RAY_memory_usage_threshold` when starting Ray. To disable worker killing, set the environment variable `RAY_memory_monitor_refresh_ms` to zero.\n"
     ]
    }
   ],
   "source": [
    "chunk_size = 1000\n",
    "cnt = 0\n",
    "chunk_results = []\n",
    "max_task = 8\n",
    "total_chunk = int(len(small_dataset) // chunk_size)\n",
    "for i in range(0, total_chunk):\n",
    "    cnt += 1\n",
    "    chunk = small_dataset.shard(num_shards=total_chunk, index=i)\n",
    "    while cnt - 1 >= max_task:\n",
    "        ready_ids, _ = ray.wait(chunk_results, num_returns=1)\n",
    "        ready_id = ready_ids[0]\n",
    "        chunk_results.remove(ready_id)\n",
    "        cnt -= 1\n",
    "    chunk_results.append(predict_by_chunk.remote(i, chunk, vtstore_ref))\n",
    "processed_chunks = ray.get(chunk_results)"
   ]
  },
  {
   "cell_type": "code",
   "execution_count": 22,
   "id": "87d5263c",
   "metadata": {},
   "outputs": [
    {
     "name": "stdout",
     "output_type": "stream",
     "text": [
      "['processed [73066] chunk: 8.3650', 'processed [63558 63559 63560] chunk: 8.6792', 'processed [167983] chunk: 8.4100', 'processed [63777] chunk: 8.5137', 'processed [70726] chunk: 4.5242', 'processed [81730] chunk: 4.4061', 'processed [192983] chunk: 5.1766', 'processed [206691] chunk: 5.3145']\n"
     ]
    }
   ],
   "source": [
    "print(processed_chunks)"
   ]
  },
  {
   "cell_type": "code",
   "execution_count": 20,
   "id": "8511ee12",
   "metadata": {},
   "outputs": [],
   "source": [
    "ray.shutdown()"
   ]
  }
 ],
 "metadata": {
  "kernelspec": {
   "display_name": "rag",
   "language": "python",
   "name": "python3"
  },
  "language_info": {
   "codemirror_mode": {
    "name": "ipython",
    "version": 3
   },
   "file_extension": ".py",
   "mimetype": "text/x-python",
   "name": "python",
   "nbconvert_exporter": "python",
   "pygments_lexer": "ipython3",
   "version": "3.10.11"
  }
 },
 "nbformat": 4,
 "nbformat_minor": 5
}
